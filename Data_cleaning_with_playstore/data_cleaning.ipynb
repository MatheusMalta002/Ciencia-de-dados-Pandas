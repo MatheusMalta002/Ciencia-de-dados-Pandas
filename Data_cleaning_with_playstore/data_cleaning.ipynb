{
 "cells": [
  {
   "cell_type": "markdown",
   "id": "a5e9a92d",
   "metadata": {},
   "source": [
    "### Origem\n",
    "* Esse dataset foi obtido através de um web scraping feito na Play Store, e está disponível na plataforma kaggle.\n",
    "\n",
    "### Motivação\n",
    "* O processo de raspagem de dados muitas vezes é uma atividade que pode demandar tempo, especialmente nesse caso da playstore onde se tem muitos comentários e aplicativos. Somado a essa velocidade de coleta, outro problema é que as páginas HTML geralmente não têm uma estrutura bem definida e sofrem alterações significativas ao longo do tempo. Por esses fatores, durante esse período de coleta as circunstâncias podem se modificar, levando a coletas de dados incorretas, como a duplicação de aplicativos.\n",
    "\n",
    "### Objetivo\n",
    "* Nesse projeto busco trabalhar habilidades de limpeza de dados num dataset gerado por web scraping.\n",
    "\n",
    "### Bibliotecas\n",
    "* Pandas\n",
    "* Numpy\n",
    "* Seaborn\n",
    "* Missingno"
   ]
  },
  {
   "cell_type": "code",
   "execution_count": 1,
   "id": "e3ed5f42",
   "metadata": {},
   "outputs": [],
   "source": [
    "import pandas as pd\n",
    "import numpy as np\n",
    "import seaborn as sns\n",
    "import missingno as msno"
   ]
  },
  {
   "cell_type": "code",
   "execution_count": 2,
   "id": "807804cf",
   "metadata": {},
   "outputs": [],
   "source": [
    "# criando dataframe\n",
    "df = pd.read_csv('googleplaystore_1.csv')"
   ]
  },
  {
   "cell_type": "code",
   "execution_count": 3,
   "id": "19cb2a36",
   "metadata": {},
   "outputs": [
    {
     "data": {
      "text/html": [
       "<div>\n",
       "<style scoped>\n",
       "    .dataframe tbody tr th:only-of-type {\n",
       "        vertical-align: middle;\n",
       "    }\n",
       "\n",
       "    .dataframe tbody tr th {\n",
       "        vertical-align: top;\n",
       "    }\n",
       "\n",
       "    .dataframe thead th {\n",
       "        text-align: right;\n",
       "    }\n",
       "</style>\n",
       "<table border=\"1\" class=\"dataframe\">\n",
       "  <thead>\n",
       "    <tr style=\"text-align: right;\">\n",
       "      <th></th>\n",
       "      <th>App</th>\n",
       "      <th>Category</th>\n",
       "      <th>Rating</th>\n",
       "      <th>Reviews</th>\n",
       "      <th>Size</th>\n",
       "      <th>Installs</th>\n",
       "      <th>Type</th>\n",
       "      <th>Price</th>\n",
       "      <th>Content Rating</th>\n",
       "      <th>Genres</th>\n",
       "      <th>Last Updated</th>\n",
       "      <th>Current Ver</th>\n",
       "      <th>Android Ver</th>\n",
       "    </tr>\n",
       "  </thead>\n",
       "  <tbody>\n",
       "    <tr>\n",
       "      <th>0</th>\n",
       "      <td>Photo Editor &amp; Candy Camera &amp; Grid &amp; ScrapBook</td>\n",
       "      <td>ART_AND_DESIGN</td>\n",
       "      <td>4.1</td>\n",
       "      <td>159</td>\n",
       "      <td>19M</td>\n",
       "      <td>10,000+</td>\n",
       "      <td>Free</td>\n",
       "      <td>0</td>\n",
       "      <td>Everyone</td>\n",
       "      <td>Art &amp; Design</td>\n",
       "      <td>January 7, 2018</td>\n",
       "      <td>1.0.0</td>\n",
       "      <td>4.0.3 and up</td>\n",
       "    </tr>\n",
       "    <tr>\n",
       "      <th>1</th>\n",
       "      <td>Coloring book moana</td>\n",
       "      <td>ART_AND_DESIGN</td>\n",
       "      <td>3.9</td>\n",
       "      <td>967</td>\n",
       "      <td>14M</td>\n",
       "      <td>500,000+</td>\n",
       "      <td>Free</td>\n",
       "      <td>0</td>\n",
       "      <td>Everyone</td>\n",
       "      <td>Art &amp; Design;Pretend Play</td>\n",
       "      <td>January 15, 2018</td>\n",
       "      <td>2.0.0</td>\n",
       "      <td>4.0.3 and up</td>\n",
       "    </tr>\n",
       "    <tr>\n",
       "      <th>2</th>\n",
       "      <td>U Launcher Lite – FREE Live Cool Themes, Hide ...</td>\n",
       "      <td>ART_AND_DESIGN</td>\n",
       "      <td>4.7</td>\n",
       "      <td>87510</td>\n",
       "      <td>8M</td>\n",
       "      <td>5,000,000+</td>\n",
       "      <td>Free</td>\n",
       "      <td>0</td>\n",
       "      <td>Everyone</td>\n",
       "      <td>Art &amp; Design</td>\n",
       "      <td>August 1, 2018</td>\n",
       "      <td>1.2.4</td>\n",
       "      <td>4.0.3 and up</td>\n",
       "    </tr>\n",
       "    <tr>\n",
       "      <th>3</th>\n",
       "      <td>Sketch - Draw &amp; Paint</td>\n",
       "      <td>ART_AND_DESIGN</td>\n",
       "      <td>4.5</td>\n",
       "      <td>215644</td>\n",
       "      <td>25M</td>\n",
       "      <td>50,000,000+</td>\n",
       "      <td>Free</td>\n",
       "      <td>0</td>\n",
       "      <td>Teen</td>\n",
       "      <td>Art &amp; Design</td>\n",
       "      <td>June 8, 2018</td>\n",
       "      <td>Varies with device</td>\n",
       "      <td>4.2 and up</td>\n",
       "    </tr>\n",
       "    <tr>\n",
       "      <th>4</th>\n",
       "      <td>Pixel Draw - Number Art Coloring Book</td>\n",
       "      <td>ART_AND_DESIGN</td>\n",
       "      <td>4.3</td>\n",
       "      <td>967</td>\n",
       "      <td>2M</td>\n",
       "      <td>100,000+</td>\n",
       "      <td>Free</td>\n",
       "      <td>0</td>\n",
       "      <td>Everyone</td>\n",
       "      <td>Art &amp; Design;Creativity</td>\n",
       "      <td>June 20, 2018</td>\n",
       "      <td>1.1</td>\n",
       "      <td>4.4 and up</td>\n",
       "    </tr>\n",
       "  </tbody>\n",
       "</table>\n",
       "</div>"
      ],
      "text/plain": [
       "                                                 App        Category  Rating  \\\n",
       "0     Photo Editor & Candy Camera & Grid & ScrapBook  ART_AND_DESIGN     4.1   \n",
       "1                                Coloring book moana  ART_AND_DESIGN     3.9   \n",
       "2  U Launcher Lite – FREE Live Cool Themes, Hide ...  ART_AND_DESIGN     4.7   \n",
       "3                              Sketch - Draw & Paint  ART_AND_DESIGN     4.5   \n",
       "4              Pixel Draw - Number Art Coloring Book  ART_AND_DESIGN     4.3   \n",
       "\n",
       "  Reviews Size     Installs  Type Price Content Rating  \\\n",
       "0     159  19M      10,000+  Free     0       Everyone   \n",
       "1     967  14M     500,000+  Free     0       Everyone   \n",
       "2   87510   8M   5,000,000+  Free     0       Everyone   \n",
       "3  215644  25M  50,000,000+  Free     0           Teen   \n",
       "4     967   2M     100,000+  Free     0       Everyone   \n",
       "\n",
       "                      Genres      Last Updated         Current Ver  \\\n",
       "0               Art & Design   January 7, 2018               1.0.0   \n",
       "1  Art & Design;Pretend Play  January 15, 2018               2.0.0   \n",
       "2               Art & Design    August 1, 2018               1.2.4   \n",
       "3               Art & Design      June 8, 2018  Varies with device   \n",
       "4    Art & Design;Creativity     June 20, 2018                 1.1   \n",
       "\n",
       "    Android Ver  \n",
       "0  4.0.3 and up  \n",
       "1  4.0.3 and up  \n",
       "2  4.0.3 and up  \n",
       "3    4.2 and up  \n",
       "4    4.4 and up  "
      ]
     },
     "execution_count": 3,
     "metadata": {},
     "output_type": "execute_result"
    }
   ],
   "source": [
    "# analise inicial dos dados\n",
    "df.head()"
   ]
  },
  {
   "cell_type": "markdown",
   "id": "55e34bd7",
   "metadata": {},
   "source": [
    "### 1. Quais colunas contém valores nulos?"
   ]
  },
  {
   "cell_type": "code",
   "execution_count": 4,
   "id": "e5af56fb",
   "metadata": {},
   "outputs": [
    {
     "name": "stdout",
     "output_type": "stream",
     "text": [
      "<class 'pandas.core.frame.DataFrame'>\n",
      "RangeIndex: 10841 entries, 0 to 10840\n",
      "Data columns (total 13 columns):\n",
      " #   Column          Non-Null Count  Dtype  \n",
      "---  ------          --------------  -----  \n",
      " 0   App             10841 non-null  object \n",
      " 1   Category        10841 non-null  object \n",
      " 2   Rating          9367 non-null   float64\n",
      " 3   Reviews         10841 non-null  object \n",
      " 4   Size            10841 non-null  object \n",
      " 5   Installs        10841 non-null  object \n",
      " 6   Type            10840 non-null  object \n",
      " 7   Price           10841 non-null  object \n",
      " 8   Content Rating  10840 non-null  object \n",
      " 9   Genres          10841 non-null  object \n",
      " 10  Last Updated    10841 non-null  object \n",
      " 11  Current Ver     10833 non-null  object \n",
      " 12  Android Ver     10838 non-null  object \n",
      "dtypes: float64(1), object(12)\n",
      "memory usage: 1.1+ MB\n"
     ]
    }
   ],
   "source": [
    "# compreendendo os tipos de cada coluna e seus valores nulos\n",
    "df.info()"
   ]
  },
  {
   "cell_type": "code",
   "execution_count": 5,
   "id": "164a6d1f",
   "metadata": {},
   "outputs": [
    {
     "data": {
      "text/plain": [
       "Rating            1474\n",
       "Current Ver          8\n",
       "Android Ver          3\n",
       "Type                 1\n",
       "Content Rating       1\n",
       "App                  0\n",
       "Category             0\n",
       "Reviews              0\n",
       "Size                 0\n",
       "Installs             0\n",
       "Price                0\n",
       "Genres               0\n",
       "Last Updated         0\n",
       "dtype: int64"
      ]
     },
     "execution_count": 5,
     "metadata": {},
     "output_type": "execute_result"
    }
   ],
   "source": [
    "# obtendo quantos valores nulos eu tenho em cada coluna\n",
    "df.isnull().sum().sort_values(ascending=False)"
   ]
  },
  {
   "cell_type": "code",
   "execution_count": 6,
   "id": "751ff947",
   "metadata": {},
   "outputs": [
    {
     "data": {
      "text/plain": [
       "<AxesSubplot: >"
      ]
     },
     "execution_count": 6,
     "metadata": {},
     "output_type": "execute_result"
    },
    {
     "data": {
      "image/png": "[encoded data removed]",
      "text/plain": [
       "<Figure size 1800x720 with 3 Axes>"
      ]
     },
     "metadata": {
      "needs_background": "light"
     },
     "output_type": "display_data"
    }
   ],
   "source": [
    "# obtendo o mesmo resultado anterior com gráfico\n",
    "msno.bar(df)"
   ]
  },
  {
   "cell_type": "markdown",
   "id": "e1b50fc4",
   "metadata": {},
   "source": [
    "#### r: Rating, Current Ver, Android Ver, Type e Content Rating."
   ]
  },
  {
   "cell_type": "markdown",
   "id": "ff99fe7d",
   "metadata": {},
   "source": [
    "### 2. Limpe a coluna 'Rating' e as outras colunas contendo valores nulos\n",
    "\n",
    "Esta é uma atividade de três partes:\n",
    "\n",
    "* Remova os valores inválidos da coluna 'Rating' (se houver). Basta defini -los como NaN.\n",
    "\n",
    "* Preencha os valores nulos na coluna de classificação usando o média ()\n",
    "\n",
    "* Limpe quaisquer outras colunas não numéricas, apenas descartando os valores.\n",
    "\n",
    "**OBS: Execute as modificações \"no local\", modificando o DF. Se você cometer um erro, recarregue os dados.**\n",
    "\n",
    "* Todas as classificações que não estão na faixa de 0 a 5 devem ser substituídas por NAN.\n",
    "\n",
    "* Para as outras colunas, basta apagar as linhas que contêm valores nulos."
   ]
  },
  {
   "cell_type": "code",
   "execution_count": 7,
   "id": "8500941c",
   "metadata": {},
   "outputs": [
    {
     "data": {
      "text/plain": [
       "<AxesSubplot: ylabel='Frequency'>"
      ]
     },
     "execution_count": 7,
     "metadata": {},
     "output_type": "execute_result"
    },
    {
     "data": {
      "image/png": "[encoded data removed]",
      "text/plain": [
       "<Figure size 432x288 with 1 Axes>"
      ]
     },
     "metadata": {
      "needs_background": "light"
     },
     "output_type": "display_data"
    }
   ],
   "source": [
    "# identificando se existe valores inválidos nas avaliações.\n",
    "df['Rating'].plot(kind='hist')"
   ]
  },
  {
   "cell_type": "code",
   "execution_count": 8,
   "id": "99c1b489",
   "metadata": {},
   "outputs": [
    {
     "data": {
      "text/plain": [
       "<AxesSubplot: >"
      ]
     },
     "execution_count": 8,
     "metadata": {},
     "output_type": "execute_result"
    },
    {
     "data": {
      "image/png": "[encoded data removed]",
      "text/plain": [
       "<Figure size 432x288 with 1 Axes>"
      ]
     },
     "metadata": {
      "needs_background": "light"
     },
     "output_type": "display_data"
    }
   ],
   "source": [
    "# Aparentemente existe valores acima de 5, que são inválidos\n",
    "\n",
    "# checando outliers com boxplot\n",
    "df['Rating'].plot(kind='box', vert=False)"
   ]
  },
  {
   "cell_type": "code",
   "execution_count": 9,
   "id": "0f0bc74f",
   "metadata": {},
   "outputs": [
    {
     "data": {
      "text/plain": [
       "count    9367.000000\n",
       "mean        4.193338\n",
       "std         0.537431\n",
       "min         1.000000\n",
       "25%         4.000000\n",
       "50%         4.300000\n",
       "75%         4.500000\n",
       "max        19.000000\n",
       "Name: Rating, dtype: float64"
      ]
     },
     "execution_count": 9,
     "metadata": {},
     "output_type": "execute_result"
    }
   ],
   "source": [
    "# verificando valores minimos e maximos na coluna 'Rating'\n",
    "df['Rating'].describe()"
   ]
  },
  {
   "cell_type": "markdown",
   "id": "5a70a31e",
   "metadata": {},
   "source": [
    "> ***Observando o histograma, boxplot e as descrições da coluna Rating, é possível perceber que existem avaliações inexistentes com valor de até 19.***\n",
    "\n",
    "> ***Realizando os 3 passos pedidos na atividade...***"
   ]
  },
  {
   "cell_type": "code",
   "execution_count": 10,
   "id": "3d38d632",
   "metadata": {},
   "outputs": [],
   "source": [
    "# para cada valor na coluna Rating acima de 5, preencha com not a number (NaN)\n",
    "df.loc[df['Rating'] > 5, 'Rating' ] = np.nan"
   ]
  },
  {
   "cell_type": "code",
   "execution_count": 11,
   "id": "9ba330f4",
   "metadata": {},
   "outputs": [],
   "source": [
    "# Para cada valor nulo ou 'NaN' na coluna Rating, substituir com valor da média de avaliações.\n",
    "df['Rating'].fillna(df['Rating'].mean(), inplace=True)"
   ]
  },
  {
   "cell_type": "code",
   "execution_count": 12,
   "id": "3b20b923",
   "metadata": {},
   "outputs": [],
   "source": [
    "# Apagando linhas com valores nulos em outras colunas\n",
    "df.dropna(inplace=True)"
   ]
  },
  {
   "cell_type": "code",
   "execution_count": 13,
   "id": "32e15b84",
   "metadata": {},
   "outputs": [
    {
     "data": {
      "text/html": [
       "<div>\n",
       "<style scoped>\n",
       "    .dataframe tbody tr th:only-of-type {\n",
       "        vertical-align: middle;\n",
       "    }\n",
       "\n",
       "    .dataframe tbody tr th {\n",
       "        vertical-align: top;\n",
       "    }\n",
       "\n",
       "    .dataframe thead th {\n",
       "        text-align: right;\n",
       "    }\n",
       "</style>\n",
       "<table border=\"1\" class=\"dataframe\">\n",
       "  <thead>\n",
       "    <tr style=\"text-align: right;\">\n",
       "      <th></th>\n",
       "      <th>Rating</th>\n",
       "    </tr>\n",
       "  </thead>\n",
       "  <tbody>\n",
       "    <tr>\n",
       "      <th>count</th>\n",
       "      <td>10829.000000</td>\n",
       "    </tr>\n",
       "    <tr>\n",
       "      <th>mean</th>\n",
       "      <td>4.191827</td>\n",
       "    </tr>\n",
       "    <tr>\n",
       "      <th>std</th>\n",
       "      <td>0.479038</td>\n",
       "    </tr>\n",
       "    <tr>\n",
       "      <th>min</th>\n",
       "      <td>1.000000</td>\n",
       "    </tr>\n",
       "    <tr>\n",
       "      <th>25%</th>\n",
       "      <td>4.100000</td>\n",
       "    </tr>\n",
       "    <tr>\n",
       "      <th>50%</th>\n",
       "      <td>4.200000</td>\n",
       "    </tr>\n",
       "    <tr>\n",
       "      <th>75%</th>\n",
       "      <td>4.500000</td>\n",
       "    </tr>\n",
       "    <tr>\n",
       "      <th>max</th>\n",
       "      <td>5.000000</td>\n",
       "    </tr>\n",
       "  </tbody>\n",
       "</table>\n",
       "</div>"
      ],
      "text/plain": [
       "             Rating\n",
       "count  10829.000000\n",
       "mean       4.191827\n",
       "std        0.479038\n",
       "min        1.000000\n",
       "25%        4.100000\n",
       "50%        4.200000\n",
       "75%        4.500000\n",
       "max        5.000000"
      ]
     },
     "execution_count": 13,
     "metadata": {},
     "output_type": "execute_result"
    }
   ],
   "source": [
    "# verificando o valor máximo para avaliações\n",
    "df.describe()"
   ]
  },
  {
   "cell_type": "code",
   "execution_count": 14,
   "id": "80735cf3",
   "metadata": {},
   "outputs": [
    {
     "name": "stdout",
     "output_type": "stream",
     "text": [
      "<class 'pandas.core.frame.DataFrame'>\n",
      "Index: 10829 entries, 0 to 10840\n",
      "Data columns (total 13 columns):\n",
      " #   Column          Non-Null Count  Dtype  \n",
      "---  ------          --------------  -----  \n",
      " 0   App             10829 non-null  object \n",
      " 1   Category        10829 non-null  object \n",
      " 2   Rating          10829 non-null  float64\n",
      " 3   Reviews         10829 non-null  object \n",
      " 4   Size            10829 non-null  object \n",
      " 5   Installs        10829 non-null  object \n",
      " 6   Type            10829 non-null  object \n",
      " 7   Price           10829 non-null  object \n",
      " 8   Content Rating  10829 non-null  object \n",
      " 9   Genres          10829 non-null  object \n",
      " 10  Last Updated    10829 non-null  object \n",
      " 11  Current Ver     10829 non-null  object \n",
      " 12  Android Ver     10829 non-null  object \n",
      "dtypes: float64(1), object(12)\n",
      "memory usage: 1.2+ MB\n"
     ]
    }
   ],
   "source": [
    "# Checando a limpeza e atualização\n",
    "df.info()"
   ]
  },
  {
   "cell_type": "markdown",
   "id": "9147d362",
   "metadata": {},
   "source": [
    "#### Após esses passos a coluna rating foi atualizada com valores válidos e as demais linhas com valores nulos foram removidas."
   ]
  },
  {
   "cell_type": "markdown",
   "id": "ef1c8dcb",
   "metadata": {},
   "source": [
    "### 3. Limpe a coluna 'Reviews' e torne-a numérica\n",
    "\n",
    "* A coluna deste dataframe deveriam ser numérica, mas foi definida como objeto (string). Isso porque os números são expressos com M, ou k para indicar Mega ou kilo.\n",
    "\n",
    "\n",
    "Por exemplo, ***5M*** deveria ser ***5.000.000.***"
   ]
  },
  {
   "cell_type": "code",
   "execution_count": 15,
   "id": "21954dc8",
   "metadata": {},
   "outputs": [
    {
     "data": {
      "text/html": [
       "<div>\n",
       "<style scoped>\n",
       "    .dataframe tbody tr th:only-of-type {\n",
       "        vertical-align: middle;\n",
       "    }\n",
       "\n",
       "    .dataframe tbody tr th {\n",
       "        vertical-align: top;\n",
       "    }\n",
       "\n",
       "    .dataframe thead th {\n",
       "        text-align: right;\n",
       "    }\n",
       "</style>\n",
       "<table border=\"1\" class=\"dataframe\">\n",
       "  <thead>\n",
       "    <tr style=\"text-align: right;\">\n",
       "      <th></th>\n",
       "      <th>App</th>\n",
       "      <th>Category</th>\n",
       "      <th>Rating</th>\n",
       "      <th>Reviews</th>\n",
       "      <th>Size</th>\n",
       "      <th>Installs</th>\n",
       "      <th>Type</th>\n",
       "      <th>Price</th>\n",
       "      <th>Content Rating</th>\n",
       "      <th>Genres</th>\n",
       "      <th>Last Updated</th>\n",
       "      <th>Current Ver</th>\n",
       "      <th>Android Ver</th>\n",
       "    </tr>\n",
       "  </thead>\n",
       "  <tbody>\n",
       "    <tr>\n",
       "      <th>139</th>\n",
       "      <td>Wattpad 📖 Free Books</td>\n",
       "      <td>BOOKS_AND_REFERENCE</td>\n",
       "      <td>4.6</td>\n",
       "      <td>2.9M</td>\n",
       "      <td>21M</td>\n",
       "      <td>100,000,000+</td>\n",
       "      <td>Free</td>\n",
       "      <td>0</td>\n",
       "      <td>Teen</td>\n",
       "      <td>Books &amp; Reference</td>\n",
       "      <td>August 1, 2018</td>\n",
       "      <td>Varies with device</td>\n",
       "      <td>Varies with device</td>\n",
       "    </tr>\n",
       "    <tr>\n",
       "      <th>152</th>\n",
       "      <td>Google Play Books</td>\n",
       "      <td>BOOKS_AND_REFERENCE</td>\n",
       "      <td>3.9</td>\n",
       "      <td>1.4M</td>\n",
       "      <td>21M</td>\n",
       "      <td>1,000,000,000+</td>\n",
       "      <td>Free</td>\n",
       "      <td>0</td>\n",
       "      <td>Teen</td>\n",
       "      <td>Books &amp; Reference</td>\n",
       "      <td>August 3, 2018</td>\n",
       "      <td>Varies with device</td>\n",
       "      <td>Varies with device</td>\n",
       "    </tr>\n",
       "    <tr>\n",
       "      <th>189</th>\n",
       "      <td>Uber Driver</td>\n",
       "      <td>BUSINESS</td>\n",
       "      <td>4.4</td>\n",
       "      <td>1.3M</td>\n",
       "      <td>21M</td>\n",
       "      <td>10,000,000+</td>\n",
       "      <td>Free</td>\n",
       "      <td>0</td>\n",
       "      <td>Everyone</td>\n",
       "      <td>Business</td>\n",
       "      <td>August 3, 2018</td>\n",
       "      <td>Varies with device</td>\n",
       "      <td>Varies with device</td>\n",
       "    </tr>\n",
       "  </tbody>\n",
       "</table>\n",
       "</div>"
      ],
      "text/plain": [
       "                      App             Category  Rating Reviews Size  \\\n",
       "139  Wattpad 📖 Free Books  BOOKS_AND_REFERENCE     4.6    2.9M  21M   \n",
       "152     Google Play Books  BOOKS_AND_REFERENCE     3.9    1.4M  21M   \n",
       "189           Uber Driver             BUSINESS     4.4    1.3M  21M   \n",
       "\n",
       "           Installs  Type Price Content Rating             Genres  \\\n",
       "139    100,000,000+  Free     0           Teen  Books & Reference   \n",
       "152  1,000,000,000+  Free     0           Teen  Books & Reference   \n",
       "189     10,000,000+  Free     0       Everyone           Business   \n",
       "\n",
       "       Last Updated         Current Ver         Android Ver  \n",
       "139  August 1, 2018  Varies with device  Varies with device  \n",
       "152  August 3, 2018  Varies with device  Varies with device  \n",
       "189  August 3, 2018  Varies with device  Varies with device  "
      ]
     },
     "execution_count": 15,
     "metadata": {},
     "output_type": "execute_result"
    }
   ],
   "source": [
    "# primeiro encontrar as linhas com os valores não numéricos\n",
    "df.loc[df['Reviews'].str.contains('M')].head(3)"
   ]
  },
  {
   "cell_type": "code",
   "execution_count": 16,
   "id": "556fa552",
   "metadata": {},
   "outputs": [
    {
     "data": {
      "text/plain": [
       "139    2.9\n",
       "152    1.4\n",
       "189    1.3\n",
       "Name: Reviews, dtype: object"
      ]
     },
     "execution_count": 16,
     "metadata": {},
     "output_type": "execute_result"
    }
   ],
   "source": [
    "# Remover os valores inválidos\n",
    "df.loc[df['Reviews'].str.contains('M'), 'Reviews'].str.replace('M', '').head(3)"
   ]
  },
  {
   "cell_type": "code",
   "execution_count": 17,
   "id": "8329d3e1",
   "metadata": {},
   "outputs": [
    {
     "data": {
      "text/plain": [
       "139    2900000.0\n",
       "152    1400000.0\n",
       "189    1300000.0\n",
       "Name: Reviews, dtype: float64"
      ]
     },
     "execution_count": 17,
     "metadata": {},
     "output_type": "execute_result"
    }
   ],
   "source": [
    "# converter para número e transformar na casa de milhões\n",
    "(pd.to_numeric(df.loc[df['Reviews'].str.contains('M'), 'Reviews'].str.replace(\"M\", \"\")) * 1_000_000).head(3)"
   ]
  },
  {
   "cell_type": "code",
   "execution_count": 18,
   "id": "b70309c4",
   "metadata": {},
   "outputs": [],
   "source": [
    "# atribuindo esses passos na coluna reviews\n",
    "df.loc[df['Reviews'].str.contains('M'), 'Reviews'] = pd.to_numeric(\n",
    "    df.loc[df['Reviews'].str.contains('M'), 'Reviews'].str.replace(\"M\", \"\")\n",
    ") * 1_000_000"
   ]
  },
  {
   "cell_type": "code",
   "execution_count": 19,
   "id": "cb90cfa4",
   "metadata": {},
   "outputs": [
    {
     "data": {
      "text/plain": [
       "0           159\n",
       "1           967\n",
       "2         87510\n",
       "3        215644\n",
       "4           967\n",
       "          ...  \n",
       "10836        38\n",
       "10837         4\n",
       "10838         3\n",
       "10839       114\n",
       "10840    398307\n",
       "Name: Reviews, Length: 10829, dtype: object"
      ]
     },
     "execution_count": 19,
     "metadata": {},
     "output_type": "execute_result"
    }
   ],
   "source": [
    "# convertendo de volta para string para verificar se existe algum erro\n",
    "df['Reviews'].astype(str)"
   ]
  },
  {
   "cell_type": "code",
   "execution_count": 20,
   "id": "ebeb5639",
   "metadata": {},
   "outputs": [
    {
     "data": {
      "text/plain": [
       "0           159.0\n",
       "1           967.0\n",
       "2         87510.0\n",
       "3        215644.0\n",
       "4           967.0\n",
       "           ...   \n",
       "10836        38.0\n",
       "10837         4.0\n",
       "10838         3.0\n",
       "10839       114.0\n",
       "10840    398307.0\n",
       "Name: Reviews, Length: 10829, dtype: float64"
      ]
     },
     "execution_count": 20,
     "metadata": {},
     "output_type": "execute_result"
    }
   ],
   "source": [
    "# convertendo tudo para numerico como solicitado na atividade\n",
    "pd.to_numeric(df['Reviews'])"
   ]
  },
  {
   "cell_type": "markdown",
   "id": "d6f195fd",
   "metadata": {},
   "source": [
    "### 4. Quantos aplicativos duplicados tem no Dataframe?\n",
    "\n",
    "* Conte o número de linhas duplicadas. Ou seja, se o aplicativo do Twitter aparecer 2 vezes, isso conta como 2.\n",
    "\n",
    "\n",
    "* Por default, o pandas só considera duplicatas linhas 100% iguais em todas as colunas\n",
    "\n"
   ]
  },
  {
   "cell_type": "code",
   "execution_count": 22,
   "id": "c831f3ce",
   "metadata": {},
   "outputs": [
    {
     "data": {
      "text/plain": [
       "1979"
      ]
     },
     "execution_count": 22,
     "metadata": {},
     "output_type": "execute_result"
    }
   ],
   "source": [
    "# por isso, vou especificar o conjunto que eu quero, e a forma de seleção usando o keep.\n",
    "df.duplicated(subset=['App'], keep=False).sum()"
   ]
  },
  {
   "cell_type": "markdown",
   "id": "fd778aac",
   "metadata": {},
   "source": [
    "Método keep:\n",
    "\n",
    "* False: marca todas as duplicatas como True.\n",
    "* first: marca a primeira ocorrencia como False e o restante como True\n",
    "* last:  marca a ultima ocorrência como False e o restante como True\n",
    "\n",
    "Saiba mais na documentação oficial do <a href='https://pandas.pydata.org/docs/reference/api/pandas.DataFrame.duplicated.html' target='_blank'>Pandas</a>"
   ]
  },
  {
   "cell_type": "markdown",
   "id": "015cb622",
   "metadata": {},
   "source": [
    "#### r: 1979"
   ]
  },
  {
   "cell_type": "markdown",
   "id": "ec973aec",
   "metadata": {},
   "source": [
    "### 5. Elimine apps duplicados mantendo apenas aqueles com maior número de avaliações\n",
    "\n",
    "* Elimine aplicativos duplicados, mantendo apenas uma cópia de cada, aquele com maior número de avaliações.\n",
    "\n",
    "\n",
    "Dica: É necessário classificar o dataframe por App e Reviews, e isso mudará a ordem do seu df."
   ]
  },
  {
   "cell_type": "code",
   "execution_count": 24,
   "id": "1e759b30",
   "metadata": {},
   "outputs": [],
   "source": [
    "df.sort_values(by=['App', 'Reviews'], inplace=True)"
   ]
  },
  {
   "cell_type": "code",
   "execution_count": 30,
   "id": "c643926f",
   "metadata": {},
   "outputs": [
    {
     "data": {
      "text/html": [
       "<div>\n",
       "<style scoped>\n",
       "    .dataframe tbody tr th:only-of-type {\n",
       "        vertical-align: middle;\n",
       "    }\n",
       "\n",
       "    .dataframe tbody tr th {\n",
       "        vertical-align: top;\n",
       "    }\n",
       "\n",
       "    .dataframe thead th {\n",
       "        text-align: right;\n",
       "    }\n",
       "</style>\n",
       "<table border=\"1\" class=\"dataframe\">\n",
       "  <thead>\n",
       "    <tr style=\"text-align: right;\">\n",
       "      <th></th>\n",
       "      <th>App</th>\n",
       "      <th>Category</th>\n",
       "      <th>Rating</th>\n",
       "      <th>Reviews</th>\n",
       "      <th>Size</th>\n",
       "      <th>Installs</th>\n",
       "      <th>Type</th>\n",
       "      <th>Price</th>\n",
       "      <th>Content Rating</th>\n",
       "      <th>Genres</th>\n",
       "      <th>Last Updated</th>\n",
       "      <th>Current Ver</th>\n",
       "      <th>Android Ver</th>\n",
       "    </tr>\n",
       "  </thead>\n",
       "  <tbody>\n",
       "    <tr>\n",
       "      <th>5415</th>\n",
       "      <td>365Scores - Live Scores</td>\n",
       "      <td>SPORTS</td>\n",
       "      <td>4.6</td>\n",
       "      <td>666246</td>\n",
       "      <td>25M</td>\n",
       "      <td>10,000,000+</td>\n",
       "      <td>Free</td>\n",
       "      <td>0</td>\n",
       "      <td>Everyone</td>\n",
       "      <td>Sports</td>\n",
       "      <td>July 29, 2018</td>\n",
       "      <td>5.5.9</td>\n",
       "      <td>4.1 and up</td>\n",
       "    </tr>\n",
       "    <tr>\n",
       "      <th>3083</th>\n",
       "      <td>365Scores - Live Scores</td>\n",
       "      <td>SPORTS</td>\n",
       "      <td>4.6</td>\n",
       "      <td>666521</td>\n",
       "      <td>25M</td>\n",
       "      <td>10,000,000+</td>\n",
       "      <td>Free</td>\n",
       "      <td>0</td>\n",
       "      <td>Everyone</td>\n",
       "      <td>Sports</td>\n",
       "      <td>July 29, 2018</td>\n",
       "      <td>5.5.9</td>\n",
       "      <td>4.1 and up</td>\n",
       "    </tr>\n",
       "    <tr>\n",
       "      <th>3953</th>\n",
       "      <td>8 Ball Pool</td>\n",
       "      <td>SPORTS</td>\n",
       "      <td>4.5</td>\n",
       "      <td>14200000.0</td>\n",
       "      <td>52M</td>\n",
       "      <td>100,000,000+</td>\n",
       "      <td>Free</td>\n",
       "      <td>0</td>\n",
       "      <td>Everyone</td>\n",
       "      <td>Sports</td>\n",
       "      <td>July 31, 2018</td>\n",
       "      <td>4.0.0</td>\n",
       "      <td>4.0.3 and up</td>\n",
       "    </tr>\n",
       "    <tr>\n",
       "      <th>559</th>\n",
       "      <td>95Live -SG#1 Live Streaming App</td>\n",
       "      <td>DATING</td>\n",
       "      <td>4.1</td>\n",
       "      <td>4953</td>\n",
       "      <td>15M</td>\n",
       "      <td>1,000,000+</td>\n",
       "      <td>Free</td>\n",
       "      <td>0</td>\n",
       "      <td>Teen</td>\n",
       "      <td>Dating</td>\n",
       "      <td>August 1, 2018</td>\n",
       "      <td>8.7.2</td>\n",
       "      <td>4.2 and up</td>\n",
       "    </tr>\n",
       "    <tr>\n",
       "      <th>662</th>\n",
       "      <td>95Live -SG#1 Live Streaming App</td>\n",
       "      <td>DATING</td>\n",
       "      <td>4.1</td>\n",
       "      <td>4954</td>\n",
       "      <td>15M</td>\n",
       "      <td>1,000,000+</td>\n",
       "      <td>Free</td>\n",
       "      <td>0</td>\n",
       "      <td>Teen</td>\n",
       "      <td>Dating</td>\n",
       "      <td>August 1, 2018</td>\n",
       "      <td>8.7.2</td>\n",
       "      <td>4.2 and up</td>\n",
       "    </tr>\n",
       "    <tr>\n",
       "      <th>4991</th>\n",
       "      <td>A&amp;E - Watch Full Episodes of TV Shows</td>\n",
       "      <td>FAMILY</td>\n",
       "      <td>4.0</td>\n",
       "      <td>29708</td>\n",
       "      <td>19M</td>\n",
       "      <td>1,000,000+</td>\n",
       "      <td>Free</td>\n",
       "      <td>0</td>\n",
       "      <td>Teen</td>\n",
       "      <td>Entertainment</td>\n",
       "      <td>July 16, 2018</td>\n",
       "      <td>3.1.4</td>\n",
       "      <td>4.4 and up</td>\n",
       "    </tr>\n",
       "    <tr>\n",
       "      <th>4928</th>\n",
       "      <td>AC - Tips &amp; News for Android™</td>\n",
       "      <td>NEWS_AND_MAGAZINES</td>\n",
       "      <td>4.2</td>\n",
       "      <td>23291</td>\n",
       "      <td>14M</td>\n",
       "      <td>1,000,000+</td>\n",
       "      <td>Free</td>\n",
       "      <td>0</td>\n",
       "      <td>Everyone 10+</td>\n",
       "      <td>News &amp; Magazines</td>\n",
       "      <td>May 24, 2018</td>\n",
       "      <td>3.1.12</td>\n",
       "      <td>4.1 and up</td>\n",
       "    </tr>\n",
       "    <tr>\n",
       "      <th>3799</th>\n",
       "      <td>AC - Tips &amp; News for Android™</td>\n",
       "      <td>NEWS_AND_MAGAZINES</td>\n",
       "      <td>4.2</td>\n",
       "      <td>23292</td>\n",
       "      <td>14M</td>\n",
       "      <td>1,000,000+</td>\n",
       "      <td>Free</td>\n",
       "      <td>0</td>\n",
       "      <td>Everyone 10+</td>\n",
       "      <td>News &amp; Magazines</td>\n",
       "      <td>May 24, 2018</td>\n",
       "      <td>3.1.12</td>\n",
       "      <td>4.1 and up</td>\n",
       "    </tr>\n",
       "    <tr>\n",
       "      <th>5448</th>\n",
       "      <td>AP Mobile - Breaking News</td>\n",
       "      <td>NEWS_AND_MAGAZINES</td>\n",
       "      <td>4.5</td>\n",
       "      <td>76616</td>\n",
       "      <td>4M</td>\n",
       "      <td>1,000,000+</td>\n",
       "      <td>Free</td>\n",
       "      <td>0</td>\n",
       "      <td>Everyone 10+</td>\n",
       "      <td>News &amp; Magazines</td>\n",
       "      <td>May 25, 2017</td>\n",
       "      <td>4.4.3</td>\n",
       "      <td>4.0 and up</td>\n",
       "    </tr>\n",
       "    <tr>\n",
       "      <th>3791</th>\n",
       "      <td>AP Mobile - Breaking News</td>\n",
       "      <td>NEWS_AND_MAGAZINES</td>\n",
       "      <td>4.5</td>\n",
       "      <td>76677</td>\n",
       "      <td>4M</td>\n",
       "      <td>1,000,000+</td>\n",
       "      <td>Free</td>\n",
       "      <td>0</td>\n",
       "      <td>Everyone 10+</td>\n",
       "      <td>News &amp; Magazines</td>\n",
       "      <td>May 25, 2017</td>\n",
       "      <td>4.4.3</td>\n",
       "      <td>4.0 and up</td>\n",
       "    </tr>\n",
       "  </tbody>\n",
       "</table>\n",
       "</div>"
      ],
      "text/plain": [
       "                                        App            Category  Rating  \\\n",
       "5415                365Scores - Live Scores              SPORTS     4.6   \n",
       "3083                365Scores - Live Scores              SPORTS     4.6   \n",
       "3953                            8 Ball Pool              SPORTS     4.5   \n",
       "559         95Live -SG#1 Live Streaming App              DATING     4.1   \n",
       "662         95Live -SG#1 Live Streaming App              DATING     4.1   \n",
       "4991  A&E - Watch Full Episodes of TV Shows              FAMILY     4.0   \n",
       "4928          AC - Tips & News for Android™  NEWS_AND_MAGAZINES     4.2   \n",
       "3799          AC - Tips & News for Android™  NEWS_AND_MAGAZINES     4.2   \n",
       "5448              AP Mobile - Breaking News  NEWS_AND_MAGAZINES     4.5   \n",
       "3791              AP Mobile - Breaking News  NEWS_AND_MAGAZINES     4.5   \n",
       "\n",
       "         Reviews Size      Installs  Type Price Content Rating  \\\n",
       "5415      666246  25M   10,000,000+  Free     0       Everyone   \n",
       "3083      666521  25M   10,000,000+  Free     0       Everyone   \n",
       "3953  14200000.0  52M  100,000,000+  Free     0       Everyone   \n",
       "559         4953  15M    1,000,000+  Free     0           Teen   \n",
       "662         4954  15M    1,000,000+  Free     0           Teen   \n",
       "4991       29708  19M    1,000,000+  Free     0           Teen   \n",
       "4928       23291  14M    1,000,000+  Free     0   Everyone 10+   \n",
       "3799       23292  14M    1,000,000+  Free     0   Everyone 10+   \n",
       "5448       76616   4M    1,000,000+  Free     0   Everyone 10+   \n",
       "3791       76677   4M    1,000,000+  Free     0   Everyone 10+   \n",
       "\n",
       "                Genres    Last Updated Current Ver   Android Ver  \n",
       "5415            Sports   July 29, 2018       5.5.9    4.1 and up  \n",
       "3083            Sports   July 29, 2018       5.5.9    4.1 and up  \n",
       "3953            Sports   July 31, 2018       4.0.0  4.0.3 and up  \n",
       "559             Dating  August 1, 2018       8.7.2    4.2 and up  \n",
       "662             Dating  August 1, 2018       8.7.2    4.2 and up  \n",
       "4991     Entertainment   July 16, 2018       3.1.4    4.4 and up  \n",
       "4928  News & Magazines    May 24, 2018      3.1.12    4.1 and up  \n",
       "3799  News & Magazines    May 24, 2018      3.1.12    4.1 and up  \n",
       "5448  News & Magazines    May 25, 2017       4.4.3    4.0 and up  \n",
       "3791  News & Magazines    May 25, 2017       4.4.3    4.0 and up  "
      ]
     },
     "execution_count": 30,
     "metadata": {},
     "output_type": "execute_result"
    }
   ],
   "source": [
    "df.loc[df.duplicated(subset=['App'], keep=False) & ~df.duplicated(keep=False)].head(10)"
   ]
  },
  {
   "cell_type": "markdown",
   "id": "6328adfe",
   "metadata": {},
   "source": [
    "*Observando a tabela e levando o fato de que o dataset foi obtido através de um web scraping, percebe-se que o ultimo valor de cada duplicata é o valor mais atual e que contém um maior número de reviews (é o que o exercício deseja).*"
   ]
  },
  {
   "cell_type": "code",
   "execution_count": 31,
   "id": "3a39b534",
   "metadata": {},
   "outputs": [],
   "source": [
    "# apagando aplicativos duplicados, mas deixando a ultima duplicata que é o valor desejado\n",
    "df.drop_duplicates(subset=['App'], keep='last', inplace=True)"
   ]
  },
  {
   "cell_type": "code",
   "execution_count": 34,
   "id": "87e4393e",
   "metadata": {},
   "outputs": [
    {
     "data": {
      "text/html": [
       "<div>\n",
       "<style scoped>\n",
       "    .dataframe tbody tr th:only-of-type {\n",
       "        vertical-align: middle;\n",
       "    }\n",
       "\n",
       "    .dataframe tbody tr th {\n",
       "        vertical-align: top;\n",
       "    }\n",
       "\n",
       "    .dataframe thead th {\n",
       "        text-align: right;\n",
       "    }\n",
       "</style>\n",
       "<table border=\"1\" class=\"dataframe\">\n",
       "  <thead>\n",
       "    <tr style=\"text-align: right;\">\n",
       "      <th></th>\n",
       "      <th>App</th>\n",
       "      <th>Category</th>\n",
       "      <th>Rating</th>\n",
       "      <th>Reviews</th>\n",
       "      <th>Size</th>\n",
       "      <th>Installs</th>\n",
       "      <th>Type</th>\n",
       "      <th>Price</th>\n",
       "      <th>Content Rating</th>\n",
       "      <th>Genres</th>\n",
       "      <th>Last Updated</th>\n",
       "      <th>Current Ver</th>\n",
       "      <th>Android Ver</th>\n",
       "    </tr>\n",
       "  </thead>\n",
       "  <tbody>\n",
       "  </tbody>\n",
       "</table>\n",
       "</div>"
      ],
      "text/plain": [
       "Empty DataFrame\n",
       "Columns: [App, Category, Rating, Reviews, Size, Installs, Type, Price, Content Rating, Genres, Last Updated, Current Ver, Android Ver]\n",
       "Index: []"
      ]
     },
     "execution_count": 34,
     "metadata": {},
     "output_type": "execute_result"
    }
   ],
   "source": [
    "# verificando se ainda existe apps duplicados\n",
    "df.loc[df.duplicated(subset=['App'], keep=False)]"
   ]
  },
  {
   "cell_type": "markdown",
   "id": "88de3b2a",
   "metadata": {},
   "source": [
    "### 6. Formate a coluna category\n",
    "\n",
    "* As categorias estão todas em letras maiúsculas e as palavras são separadas por underscores. Transforme a primeira letr em maiúsculo no primeiro caractere e os underscores transformados em espaços em branco.\n",
    "\n",
    "> Exemplo: AUTO_AND_VEHICLES --> Auto and vehicles. \n",
    "\n",
    "> Obs: Além disso, se você encontrar qualquer outro valor errado, transforme-o em uma categoria 'Unknown'."
   ]
  },
  {
   "cell_type": "code",
   "execution_count": 35,
   "id": "c1db8f3d",
   "metadata": {},
   "outputs": [],
   "source": [
    "# removendo underscores\n",
    "df['Category'] = df['Category'].str.replace(\"_\", \" \")"
   ]
  },
  {
   "cell_type": "code",
   "execution_count": 36,
   "id": "c1ace2cf",
   "metadata": {},
   "outputs": [],
   "source": [
    "# transformando valores em capitalize\n",
    "df['Category'] = df['Category'].str.capitalize()"
   ]
  },
  {
   "cell_type": "code",
   "execution_count": 41,
   "id": "419dbd02",
   "metadata": {},
   "outputs": [
    {
     "data": {
      "text/plain": [
       "Category\n",
       "Family                 1889\n",
       "Game                    930\n",
       "Tools                   826\n",
       "Business                420\n",
       "Medical                 395\n",
       "Productivity            374\n",
       "Personalization         374\n",
       "Lifestyle               369\n",
       "Finance                 345\n",
       "Sports                  327\n",
       "Communication           315\n",
       "Health and fitness      288\n",
       "Photography             281\n",
       "News and magazines      254\n",
       "Social                  239\n",
       "Books and reference     221\n",
       "Travel and local        219\n",
       "Shopping                202\n",
       "Dating                  171\n",
       "Video players           164\n",
       "Maps and navigation     131\n",
       "Food and drink          112\n",
       "Education               106\n",
       "Auto and vehicles        85\n",
       "Libraries and demo       83\n",
       "Entertainment            83\n",
       "Weather                  79\n",
       "House and home           73\n",
       "Events                   64\n",
       "Art and design           60\n",
       "Parenting                60\n",
       "Comics                   56\n",
       "Beauty                   53\n",
       "Name: count, dtype: int64"
      ]
     },
     "execution_count": 41,
     "metadata": {},
     "output_type": "execute_result"
    }
   ],
   "source": [
    "(df['Category']).value_counts()"
   ]
  },
  {
   "cell_type": "markdown",
   "id": "2caa729f",
   "metadata": {},
   "source": [
    "### 7. Limpe e converta a coluna Installs para o tipo numérico\n",
    "\n",
    "* Limpe e transforme as instalações como um tipo numérico. Alguns valores em Instalações terão um modificador +. Basta remover a string e respeitar o número original.\n",
    "\n",
    "> por exemplo +2.500 ou 2.500+ deve ser transformado no número 2500"
   ]
  },
  {
   "cell_type": "code",
   "execution_count": 57,
   "id": "f09067fb",
   "metadata": {},
   "outputs": [],
   "source": [
    "df['Installs'] = df['Installs'].str.replace(\"+\", \"\")"
   ]
  },
  {
   "cell_type": "code",
   "execution_count": 61,
   "id": "1ca6f374",
   "metadata": {},
   "outputs": [],
   "source": [
    "df['Installs'] = df['Installs'].str.replace(\",\", \"\")"
   ]
  },
  {
   "cell_type": "code",
   "execution_count": 62,
   "id": "9e419ad0",
   "metadata": {},
   "outputs": [
    {
     "data": {
      "text/html": [
       "<div>\n",
       "<style scoped>\n",
       "    .dataframe tbody tr th:only-of-type {\n",
       "        vertical-align: middle;\n",
       "    }\n",
       "\n",
       "    .dataframe tbody tr th {\n",
       "        vertical-align: top;\n",
       "    }\n",
       "\n",
       "    .dataframe thead th {\n",
       "        text-align: right;\n",
       "    }\n",
       "</style>\n",
       "<table border=\"1\" class=\"dataframe\">\n",
       "  <thead>\n",
       "    <tr style=\"text-align: right;\">\n",
       "      <th></th>\n",
       "      <th>App</th>\n",
       "      <th>Category</th>\n",
       "      <th>Rating</th>\n",
       "      <th>Reviews</th>\n",
       "      <th>Size</th>\n",
       "      <th>Installs</th>\n",
       "      <th>Type</th>\n",
       "      <th>Price</th>\n",
       "      <th>Content Rating</th>\n",
       "      <th>Genres</th>\n",
       "      <th>Last Updated</th>\n",
       "      <th>Current Ver</th>\n",
       "      <th>Android Ver</th>\n",
       "    </tr>\n",
       "  </thead>\n",
       "  <tbody>\n",
       "    <tr>\n",
       "      <th>8884</th>\n",
       "      <td>\"i DT\" Fútbol. Todos Somos Técnicos.</td>\n",
       "      <td>Sports</td>\n",
       "      <td>4.191757</td>\n",
       "      <td>27</td>\n",
       "      <td>3M</td>\n",
       "      <td>500</td>\n",
       "      <td>Free</td>\n",
       "      <td>0</td>\n",
       "      <td>Everyone</td>\n",
       "      <td>Sports</td>\n",
       "      <td>October 7, 2017</td>\n",
       "      <td>0.22</td>\n",
       "      <td>4.1 and up</td>\n",
       "    </tr>\n",
       "    <tr>\n",
       "      <th>8532</th>\n",
       "      <td>+Download 4 Instagram Twitter</td>\n",
       "      <td>Social</td>\n",
       "      <td>4.500000</td>\n",
       "      <td>40467</td>\n",
       "      <td>22M</td>\n",
       "      <td>1000000</td>\n",
       "      <td>Free</td>\n",
       "      <td>0</td>\n",
       "      <td>Everyone</td>\n",
       "      <td>Social</td>\n",
       "      <td>August 2, 2018</td>\n",
       "      <td>5.03</td>\n",
       "      <td>4.1 and up</td>\n",
       "    </tr>\n",
       "  </tbody>\n",
       "</table>\n",
       "</div>"
      ],
      "text/plain": [
       "                                       App Category    Rating Reviews Size  \\\n",
       "8884  \"i DT\" Fútbol. Todos Somos Técnicos.   Sports  4.191757      27   3M   \n",
       "8532         +Download 4 Instagram Twitter   Social  4.500000   40467  22M   \n",
       "\n",
       "     Installs  Type Price Content Rating  Genres     Last Updated Current Ver  \\\n",
       "8884      500  Free     0       Everyone  Sports  October 7, 2017        0.22   \n",
       "8532  1000000  Free     0       Everyone  Social   August 2, 2018        5.03   \n",
       "\n",
       "     Android Ver  \n",
       "8884  4.1 and up  \n",
       "8532  4.1 and up  "
      ]
     },
     "execution_count": 62,
     "metadata": {},
     "output_type": "execute_result"
    }
   ],
   "source": [
    "df.head(2)"
   ]
  },
  {
   "cell_type": "code",
   "execution_count": 63,
   "id": "f101e01c",
   "metadata": {},
   "outputs": [
    {
     "data": {
      "text/plain": [
       "8884        500\n",
       "8532    1000000\n",
       "324       10000\n",
       "4541      10000\n",
       "4636      10000\n",
       "         ...   \n",
       "6334     100000\n",
       "4362      10000\n",
       "2575    1000000\n",
       "7559      10000\n",
       "882     1000000\n",
       "Name: Installs, Length: 9648, dtype: int64"
      ]
     },
     "execution_count": 63,
     "metadata": {},
     "output_type": "execute_result"
    }
   ],
   "source": [
    "pd.to_numeric(df['Installs']) "
   ]
  },
  {
   "cell_type": "code",
   "execution_count": null,
   "id": "a12bad9c",
   "metadata": {},
   "outputs": [],
   "source": []
  }
 ],
 "metadata": {
  "kernelspec": {
   "display_name": "Python 3 (ipykernel)",
   "language": "python",
   "name": "python3"
  },
  "language_info": {
   "codemirror_mode": {
    "name": "ipython",
    "version": 3
   },
   "file_extension": ".py",
   "mimetype": "text/x-python",
   "name": "python",
   "nbconvert_exporter": "python",
   "pygments_lexer": "ipython3",
   "version": "3.10.2"
  }
 },
 "nbformat": 4,
 "nbformat_minor": 5
}
