{
 "cells": [
  {
   "cell_type": "markdown",
   "id": "caa8a4d0",
   "metadata": {},
   "source": [
    "## Project: Querying and Filtering Pokemon data\n",
    "\n",
    "This project aims to improve my querying and filtering skills with pandas. Let's start!"
   ]
  },
  {
   "cell_type": "code",
   "execution_count": null,
   "id": "20f3b885",
   "metadata": {},
   "outputs": [],
   "source": []
  }
 ],
 "metadata": {
  "kernelspec": {
   "display_name": "Python 3 (ipykernel)",
   "language": "python",
   "name": "python3"
  },
  "language_info": {
   "codemirror_mode": {
    "name": "ipython",
    "version": 3
   },
   "file_extension": ".py",
   "mimetype": "text/x-python",
   "name": "python",
   "nbconvert_exporter": "python",
   "pygments_lexer": "ipython3",
   "version": "3.10.2"
  }
 },
 "nbformat": 4,
 "nbformat_minor": 5
}
