{
 "cells": [
  {
   "cell_type": "markdown",
   "id": "d299f22e",
   "metadata": {},
   "source": [
    "### Objetivo\n",
    "* Este projeto visa desenvolver habilidades de limpeza de dados e manipulação de strings.\n",
    "\n",
    "### Motivação\n",
    "* No mundo real, a coleta de dados geralmente envolve diferentes origens, como APIs, bancos de dados, planilhas e intervenção humana. Por isso, é provável que esses dados apresentem padrões distintos.\n",
    "\n",
    "### Explicação:\n",
    "\n",
    "* Neste projeto, possuo dois conjuntos de dados que contêm nomes de organizações listadas no site da Forbes. No entanto, os nomes das empresas em um arquivo CSV estão na forma como os clientes reconhecem a empresa, enquanto no outro estão os nomes completos das empresas, por exemplo: Apple versus Apple Inc.\n",
    "\n",
    "\n",
    "* Para um ser humano, identificar que \"AECOM\" e \"AECOM TECHNOLOGY CORPORATION\" representam a mesma empresa é fácil. Contudo, como podemos fazer com que a máquina pense de maneira semelhante a um humano?\n",
    "\n",
    "\n",
    "* Para essa tarefa, pretendo utilizar a distância de Levenshtein, implementada na biblioteca fuzzywuzzy do Python. Essa biblioteca retorna um valor numérico de 0 a 100, representando a similaridade entre duas strings."
   ]
  },
  {
   "cell_type": "code",
   "execution_count": 1,
   "id": "33ecaf87",
   "metadata": {},
   "outputs": [],
   "source": [
    "import pandas as pd\n",
    "import itertools\n",
    "from fuzzywuzzy import fuzz, process"
   ]
  },
  {
   "cell_type": "code",
   "execution_count": 2,
   "id": "a5036a63",
   "metadata": {},
   "outputs": [],
   "source": [
    "df1 = pd.read_csv(\"company_names.csv\")\n",
    "df2 = pd.read_csv(\"full_company_names.csv\")"
   ]
  },
  {
   "cell_type": "code",
   "execution_count": 3,
   "id": "a7579d59",
   "metadata": {},
   "outputs": [
    {
     "data": {
      "text/html": [
       "<div>\n",
       "<style scoped>\n",
       "    .dataframe tbody tr th:only-of-type {\n",
       "        vertical-align: middle;\n",
       "    }\n",
       "\n",
       "    .dataframe tbody tr th {\n",
       "        vertical-align: top;\n",
       "    }\n",
       "\n",
       "    .dataframe thead th {\n",
       "        text-align: right;\n",
       "    }\n",
       "</style>\n",
       "<table border=\"1\" class=\"dataframe\">\n",
       "  <thead>\n",
       "    <tr style=\"text-align: right;\">\n",
       "      <th></th>\n",
       "      <th>Company Names</th>\n",
       "    </tr>\n",
       "  </thead>\n",
       "  <tbody>\n",
       "    <tr>\n",
       "      <th>0</th>\n",
       "      <td>JPMorgan Chase</td>\n",
       "    </tr>\n",
       "    <tr>\n",
       "      <th>1</th>\n",
       "      <td>Saudi Arabian Oil Company (Saudi Aramco)</td>\n",
       "    </tr>\n",
       "    <tr>\n",
       "      <th>2</th>\n",
       "      <td>ICBC</td>\n",
       "    </tr>\n",
       "    <tr>\n",
       "      <th>3</th>\n",
       "      <td>China Construction Bank</td>\n",
       "    </tr>\n",
       "    <tr>\n",
       "      <th>4</th>\n",
       "      <td>Agricultural Bank of China</td>\n",
       "    </tr>\n",
       "  </tbody>\n",
       "</table>\n",
       "</div>"
      ],
      "text/plain": [
       "                              Company Names\n",
       "0                            JPMorgan Chase\n",
       "1  Saudi Arabian Oil Company (Saudi Aramco)\n",
       "2                                      ICBC\n",
       "3                   China Construction Bank\n",
       "4                Agricultural Bank of China"
      ]
     },
     "execution_count": 3,
     "metadata": {},
     "output_type": "execute_result"
    }
   ],
   "source": [
    "df1.head()"
   ]
  },
  {
   "cell_type": "code",
   "execution_count": 4,
   "id": "0a27c605",
   "metadata": {},
   "outputs": [
    {
     "data": {
      "text/html": [
       "<div>\n",
       "<style scoped>\n",
       "    .dataframe tbody tr th:only-of-type {\n",
       "        vertical-align: middle;\n",
       "    }\n",
       "\n",
       "    .dataframe tbody tr th {\n",
       "        vertical-align: top;\n",
       "    }\n",
       "\n",
       "    .dataframe thead th {\n",
       "        text-align: right;\n",
       "    }\n",
       "</style>\n",
       "<table border=\"1\" class=\"dataframe\">\n",
       "  <thead>\n",
       "    <tr style=\"text-align: right;\">\n",
       "      <th></th>\n",
       "      <th>Full Company Names</th>\n",
       "    </tr>\n",
       "  </thead>\n",
       "  <tbody>\n",
       "    <tr>\n",
       "      <th>105</th>\n",
       "      <td>Zurich Insurance Group Ltd.</td>\n",
       "    </tr>\n",
       "    <tr>\n",
       "      <th>16</th>\n",
       "      <td>Wells Fargo &amp; Co.</td>\n",
       "    </tr>\n",
       "    <tr>\n",
       "      <th>22</th>\n",
       "      <td>Walmart Inc.</td>\n",
       "    </tr>\n",
       "    <tr>\n",
       "      <th>28</th>\n",
       "      <td>Volkswagen AG</td>\n",
       "    </tr>\n",
       "    <tr>\n",
       "      <th>121</th>\n",
       "      <td>Visa Inc.</td>\n",
       "    </tr>\n",
       "  </tbody>\n",
       "</table>\n",
       "</div>"
      ],
      "text/plain": [
       "              Full Company Names\n",
       "105  Zurich Insurance Group Ltd.\n",
       "16             Wells Fargo & Co.\n",
       "22                  Walmart Inc.\n",
       "28                 Volkswagen AG\n",
       "121                    Visa Inc."
      ]
     },
     "execution_count": 4,
     "metadata": {},
     "output_type": "execute_result"
    }
   ],
   "source": [
    "df2.sort_values(by=['Full Company Names'], ascending=False).head()"
   ]
  },
  {
   "cell_type": "markdown",
   "id": "a08f74ff",
   "metadata": {},
   "source": [
    "### 1. Crie o dataframe df contendo o produto dos dois CSVs"
   ]
  },
  {
   "cell_type": "code",
   "execution_count": 5,
   "id": "fc41edd0",
   "metadata": {},
   "outputs": [],
   "source": [
    "df = pd.DataFrame(\n",
    "    itertools.product(df1['Company Names'], df2['Full Company Names']),\n",
    "    columns=['CSV1', 'CSV 2']\n",
    ")"
   ]
  },
  {
   "cell_type": "code",
   "execution_count": 6,
   "id": "582866b2",
   "metadata": {},
   "outputs": [
    {
     "data": {
      "text/html": [
       "<div>\n",
       "<style scoped>\n",
       "    .dataframe tbody tr th:only-of-type {\n",
       "        vertical-align: middle;\n",
       "    }\n",
       "\n",
       "    .dataframe tbody tr th {\n",
       "        vertical-align: top;\n",
       "    }\n",
       "\n",
       "    .dataframe thead th {\n",
       "        text-align: right;\n",
       "    }\n",
       "</style>\n",
       "<table border=\"1\" class=\"dataframe\">\n",
       "  <thead>\n",
       "    <tr style=\"text-align: right;\">\n",
       "      <th></th>\n",
       "      <th>CSV1</th>\n",
       "      <th>CSV 2</th>\n",
       "    </tr>\n",
       "  </thead>\n",
       "  <tbody>\n",
       "    <tr>\n",
       "      <th>0</th>\n",
       "      <td>JPMorgan Chase</td>\n",
       "      <td>JPMorgan Chase &amp; Co.</td>\n",
       "    </tr>\n",
       "    <tr>\n",
       "      <th>1</th>\n",
       "      <td>JPMorgan Chase</td>\n",
       "      <td>Saudi Arabian Oil Company (Saudi Aramco)</td>\n",
       "    </tr>\n",
       "    <tr>\n",
       "      <th>2</th>\n",
       "      <td>JPMorgan Chase</td>\n",
       "      <td>Industrial and Commercial Bank of China Limite...</td>\n",
       "    </tr>\n",
       "    <tr>\n",
       "      <th>3</th>\n",
       "      <td>JPMorgan Chase</td>\n",
       "      <td>China Construction Bank Corporation</td>\n",
       "    </tr>\n",
       "    <tr>\n",
       "      <th>4</th>\n",
       "      <td>JPMorgan Chase</td>\n",
       "      <td>Agricultural Bank of China Limited</td>\n",
       "    </tr>\n",
       "  </tbody>\n",
       "</table>\n",
       "</div>"
      ],
      "text/plain": [
       "             CSV1                                              CSV 2\n",
       "0  JPMorgan Chase                               JPMorgan Chase & Co.\n",
       "1  JPMorgan Chase           Saudi Arabian Oil Company (Saudi Aramco)\n",
       "2  JPMorgan Chase  Industrial and Commercial Bank of China Limite...\n",
       "3  JPMorgan Chase                China Construction Bank Corporation\n",
       "4  JPMorgan Chase                 Agricultural Bank of China Limited"
      ]
     },
     "execution_count": 6,
     "metadata": {},
     "output_type": "execute_result"
    }
   ],
   "source": [
    "df.head()"
   ]
  },
  {
   "cell_type": "markdown",
   "id": "f27c5942",
   "metadata": {},
   "source": [
    "### 2. Crie uma nova coluna \"Ratio Score\" para guardar a distância entre todas as linhas do dataframe."
   ]
  },
  {
   "cell_type": "code",
   "execution_count": 7,
   "id": "10187777",
   "metadata": {},
   "outputs": [
    {
     "data": {
      "text/plain": [
       "[100, 36, 43, 36, 43, 36, 23, 29, 29, 10]"
      ]
     },
     "execution_count": 7,
     "metadata": {},
     "output_type": "execute_result"
    }
   ],
   "source": [
    "test = [fuzz.partial_ratio(csv_1, csv_2) for csv_1, csv_2 in df.values]\n",
    "test[:10]"
   ]
  },
  {
   "cell_type": "code",
   "execution_count": 8,
   "id": "9358731e",
   "metadata": {},
   "outputs": [],
   "source": [
    "df['Ratio Score'] = [fuzz.partial_ratio(csv_1, csv_2) for csv_1, csv_2 in df.values]"
   ]
  },
  {
   "cell_type": "code",
   "execution_count": 9,
   "id": "8ecd25cd",
   "metadata": {},
   "outputs": [
    {
     "data": {
      "text/html": [
       "<div>\n",
       "<style scoped>\n",
       "    .dataframe tbody tr th:only-of-type {\n",
       "        vertical-align: middle;\n",
       "    }\n",
       "\n",
       "    .dataframe tbody tr th {\n",
       "        vertical-align: top;\n",
       "    }\n",
       "\n",
       "    .dataframe thead th {\n",
       "        text-align: right;\n",
       "    }\n",
       "</style>\n",
       "<table border=\"1\" class=\"dataframe\">\n",
       "  <thead>\n",
       "    <tr style=\"text-align: right;\">\n",
       "      <th></th>\n",
       "      <th>CSV1</th>\n",
       "      <th>CSV 2</th>\n",
       "      <th>Ratio Score</th>\n",
       "    </tr>\n",
       "  </thead>\n",
       "  <tbody>\n",
       "    <tr>\n",
       "      <th>0</th>\n",
       "      <td>JPMorgan Chase</td>\n",
       "      <td>JPMorgan Chase &amp; Co.</td>\n",
       "      <td>100</td>\n",
       "    </tr>\n",
       "    <tr>\n",
       "      <th>1</th>\n",
       "      <td>JPMorgan Chase</td>\n",
       "      <td>Saudi Arabian Oil Company (Saudi Aramco)</td>\n",
       "      <td>36</td>\n",
       "    </tr>\n",
       "    <tr>\n",
       "      <th>2</th>\n",
       "      <td>JPMorgan Chase</td>\n",
       "      <td>Industrial and Commercial Bank of China Limite...</td>\n",
       "      <td>43</td>\n",
       "    </tr>\n",
       "    <tr>\n",
       "      <th>3</th>\n",
       "      <td>JPMorgan Chase</td>\n",
       "      <td>China Construction Bank Corporation</td>\n",
       "      <td>36</td>\n",
       "    </tr>\n",
       "    <tr>\n",
       "      <th>4</th>\n",
       "      <td>JPMorgan Chase</td>\n",
       "      <td>Agricultural Bank of China Limited</td>\n",
       "      <td>43</td>\n",
       "    </tr>\n",
       "  </tbody>\n",
       "</table>\n",
       "</div>"
      ],
      "text/plain": [
       "             CSV1                                              CSV 2  \\\n",
       "0  JPMorgan Chase                               JPMorgan Chase & Co.   \n",
       "1  JPMorgan Chase           Saudi Arabian Oil Company (Saudi Aramco)   \n",
       "2  JPMorgan Chase  Industrial and Commercial Bank of China Limite...   \n",
       "3  JPMorgan Chase                China Construction Bank Corporation   \n",
       "4  JPMorgan Chase                 Agricultural Bank of China Limited   \n",
       "\n",
       "   Ratio Score  \n",
       "0          100  \n",
       "1           36  \n",
       "2           43  \n",
       "3           36  \n",
       "4           43  "
      ]
     },
     "execution_count": 9,
     "metadata": {},
     "output_type": "execute_result"
    }
   ],
   "source": [
    "df.head()"
   ]
  },
  {
   "cell_type": "markdown",
   "id": "b31e634b",
   "metadata": {},
   "source": [
    "### 3. Quantas linhas tem o ratio score maior ou igual a 90?"
   ]
  },
  {
   "cell_type": "code",
   "execution_count": 10,
   "id": "081fecec",
   "metadata": {},
   "outputs": [
    {
     "data": {
      "text/plain": [
       "(144, 3)"
      ]
     },
     "execution_count": 10,
     "metadata": {},
     "output_type": "execute_result"
    }
   ],
   "source": [
    "df.loc[df['Ratio Score'] >= 90].shape"
   ]
  },
  {
   "cell_type": "markdown",
   "id": "93900248",
   "metadata": {},
   "source": [
    "#### r: 149"
   ]
  },
  {
   "cell_type": "markdown",
   "id": "541ca9ed",
   "metadata": {},
   "source": [
    "### 4. Qual é a empresa correspondente em CSV2 para Mistubishi no CSV1?"
   ]
  },
  {
   "cell_type": "code",
   "execution_count": 11,
   "id": "e493a6c0",
   "metadata": {},
   "outputs": [
    {
     "data": {
      "text/html": [
       "<div>\n",
       "<style scoped>\n",
       "    .dataframe tbody tr th:only-of-type {\n",
       "        vertical-align: middle;\n",
       "    }\n",
       "\n",
       "    .dataframe tbody tr th {\n",
       "        vertical-align: top;\n",
       "    }\n",
       "\n",
       "    .dataframe thead th {\n",
       "        text-align: right;\n",
       "    }\n",
       "</style>\n",
       "<table border=\"1\" class=\"dataframe\">\n",
       "  <thead>\n",
       "    <tr style=\"text-align: right;\">\n",
       "      <th></th>\n",
       "      <th>CSV1</th>\n",
       "      <th>CSV 2</th>\n",
       "      <th>Ratio Score</th>\n",
       "    </tr>\n",
       "  </thead>\n",
       "  <tbody>\n",
       "    <tr>\n",
       "      <th>11174</th>\n",
       "      <td>Mitsubishi</td>\n",
       "      <td>Mitsubishi Corporation</td>\n",
       "      <td>100</td>\n",
       "    </tr>\n",
       "    <tr>\n",
       "      <th>11190</th>\n",
       "      <td>Mitsubishi</td>\n",
       "      <td>Mitsubishi UFJ Financial Group, Inc.</td>\n",
       "      <td>100</td>\n",
       "    </tr>\n",
       "  </tbody>\n",
       "</table>\n",
       "</div>"
      ],
      "text/plain": [
       "             CSV1                                 CSV 2  Ratio Score\n",
       "11174  Mitsubishi                Mitsubishi Corporation          100\n",
       "11190  Mitsubishi  Mitsubishi UFJ Financial Group, Inc.          100"
      ]
     },
     "execution_count": 11,
     "metadata": {},
     "output_type": "execute_result"
    }
   ],
   "source": [
    "df.query(\"`CSV1` == 'Mitsubishi' and `Ratio Score` > 90\")"
   ]
  },
  {
   "cell_type": "code",
   "execution_count": 12,
   "id": "da94d3ae",
   "metadata": {},
   "outputs": [
    {
     "data": {
      "text/html": [
       "<div>\n",
       "<style scoped>\n",
       "    .dataframe tbody tr th:only-of-type {\n",
       "        vertical-align: middle;\n",
       "    }\n",
       "\n",
       "    .dataframe tbody tr th {\n",
       "        vertical-align: top;\n",
       "    }\n",
       "\n",
       "    .dataframe thead th {\n",
       "        text-align: right;\n",
       "    }\n",
       "</style>\n",
       "<table border=\"1\" class=\"dataframe\">\n",
       "  <thead>\n",
       "    <tr style=\"text-align: right;\">\n",
       "      <th></th>\n",
       "      <th>CSV1</th>\n",
       "      <th>CSV 2</th>\n",
       "      <th>Ratio Score</th>\n",
       "    </tr>\n",
       "  </thead>\n",
       "  <tbody>\n",
       "    <tr>\n",
       "      <th>13590</th>\n",
       "      <td>Mitsubishi UFJ Financial</td>\n",
       "      <td>Mitsubishi UFJ Financial Group, Inc.</td>\n",
       "      <td>100</td>\n",
       "    </tr>\n",
       "  </tbody>\n",
       "</table>\n",
       "</div>"
      ],
      "text/plain": [
       "                           CSV1                                 CSV 2  \\\n",
       "13590  Mitsubishi UFJ Financial  Mitsubishi UFJ Financial Group, Inc.   \n",
       "\n",
       "       Ratio Score  \n",
       "13590          100  "
      ]
     },
     "execution_count": 12,
     "metadata": {},
     "output_type": "execute_result"
    }
   ],
   "source": [
    "df.query(\"`CSV1` == 'Mitsubishi UFJ Financial' and `Ratio Score` > 90\")"
   ]
  },
  {
   "cell_type": "markdown",
   "id": "2d195eae",
   "metadata": {},
   "source": [
    "#### r: Mitsubishi Corporation"
   ]
  },
  {
   "cell_type": "markdown",
   "id": "3345094d",
   "metadata": {},
   "source": [
    "### 5. Qual é a empresa CSV2 correspondente do Santander?"
   ]
  },
  {
   "cell_type": "code",
   "execution_count": 13,
   "id": "9f49410f",
   "metadata": {},
   "outputs": [
    {
     "data": {
      "text/html": [
       "<div>\n",
       "<style scoped>\n",
       "    .dataframe tbody tr th:only-of-type {\n",
       "        vertical-align: middle;\n",
       "    }\n",
       "\n",
       "    .dataframe tbody tr th {\n",
       "        vertical-align: top;\n",
       "    }\n",
       "\n",
       "    .dataframe thead th {\n",
       "        text-align: right;\n",
       "    }\n",
       "</style>\n",
       "<table border=\"1\" class=\"dataframe\">\n",
       "  <thead>\n",
       "    <tr style=\"text-align: right;\">\n",
       "      <th></th>\n",
       "      <th>CSV1</th>\n",
       "      <th>CSV 2</th>\n",
       "      <th>Ratio Score</th>\n",
       "    </tr>\n",
       "  </thead>\n",
       "  <tbody>\n",
       "    <tr>\n",
       "      <th>7248</th>\n",
       "      <td>Santander</td>\n",
       "      <td>Banco Santander, S.A.</td>\n",
       "      <td>100</td>\n",
       "    </tr>\n",
       "  </tbody>\n",
       "</table>\n",
       "</div>"
      ],
      "text/plain": [
       "           CSV1                  CSV 2  Ratio Score\n",
       "7248  Santander  Banco Santander, S.A.          100"
      ]
     },
     "execution_count": 13,
     "metadata": {},
     "output_type": "execute_result"
    }
   ],
   "source": [
    "df.loc[\n",
    "    (df['CSV1'] == \"Santander\") &\n",
    "    (df['Ratio Score'] > 90)\n",
    "]"
   ]
  },
  {
   "cell_type": "markdown",
   "id": "afffd3f4",
   "metadata": {},
   "source": [
    "#### r: Banco Santander, S.A."
   ]
  },
  {
   "cell_type": "markdown",
   "id": "8468e3b4",
   "metadata": {},
   "source": [
    "### 6. CSV1 contém (Porsche Automobil Holding), há correspondência no CSV2?"
   ]
  },
  {
   "cell_type": "code",
   "execution_count": 14,
   "id": "7a53f399",
   "metadata": {},
   "outputs": [
    {
     "data": {
      "text/html": [
       "<div>\n",
       "<style scoped>\n",
       "    .dataframe tbody tr th:only-of-type {\n",
       "        vertical-align: middle;\n",
       "    }\n",
       "\n",
       "    .dataframe tbody tr th {\n",
       "        vertical-align: top;\n",
       "    }\n",
       "\n",
       "    .dataframe thead th {\n",
       "        text-align: right;\n",
       "    }\n",
       "</style>\n",
       "<table border=\"1\" class=\"dataframe\">\n",
       "  <thead>\n",
       "    <tr style=\"text-align: right;\">\n",
       "      <th></th>\n",
       "      <th>CSV1</th>\n",
       "      <th>CSV 2</th>\n",
       "      <th>Ratio Score</th>\n",
       "    </tr>\n",
       "  </thead>\n",
       "  <tbody>\n",
       "  </tbody>\n",
       "</table>\n",
       "</div>"
      ],
      "text/plain": [
       "Empty DataFrame\n",
       "Columns: [CSV1, CSV 2, Ratio Score]\n",
       "Index: []"
      ]
     },
     "execution_count": 14,
     "metadata": {},
     "output_type": "execute_result"
    }
   ],
   "source": [
    "df.query(\"`CSV1` == 'Porsche Automobil Holding' and `Ratio Score` > 90\")"
   ]
  },
  {
   "cell_type": "markdown",
   "id": "75b36c32",
   "metadata": {},
   "source": [
    "#### r: não"
   ]
  },
  {
   "cell_type": "markdown",
   "id": "0da92ce8",
   "metadata": {},
   "source": [
    "### 7. Existe uma empresa correspondente para a Cisco Systems?"
   ]
  },
  {
   "cell_type": "code",
   "execution_count": 15,
   "id": "6216926a",
   "metadata": {},
   "outputs": [
    {
     "data": {
      "text/html": [
       "<div>\n",
       "<style scoped>\n",
       "    .dataframe tbody tr th:only-of-type {\n",
       "        vertical-align: middle;\n",
       "    }\n",
       "\n",
       "    .dataframe tbody tr th {\n",
       "        vertical-align: top;\n",
       "    }\n",
       "\n",
       "    .dataframe thead th {\n",
       "        text-align: right;\n",
       "    }\n",
       "</style>\n",
       "<table border=\"1\" class=\"dataframe\">\n",
       "  <thead>\n",
       "    <tr style=\"text-align: right;\">\n",
       "      <th></th>\n",
       "      <th>CSV1</th>\n",
       "      <th>CSV 2</th>\n",
       "      <th>Ratio Score</th>\n",
       "    </tr>\n",
       "  </thead>\n",
       "  <tbody>\n",
       "    <tr>\n",
       "      <th>13892</th>\n",
       "      <td>Cisco Systems</td>\n",
       "      <td>Cisco Systems, Inc.</td>\n",
       "      <td>100</td>\n",
       "    </tr>\n",
       "  </tbody>\n",
       "</table>\n",
       "</div>"
      ],
      "text/plain": [
       "                CSV1                CSV 2  Ratio Score\n",
       "13892  Cisco Systems  Cisco Systems, Inc.          100"
      ]
     },
     "execution_count": 15,
     "metadata": {},
     "output_type": "execute_result"
    }
   ],
   "source": [
    "df.query(\"`CSV1` == 'Cisco Systems' and `Ratio Score` > 90\")"
   ]
  },
  {
   "cell_type": "markdown",
   "id": "8fe3f4aa",
   "metadata": {},
   "source": [
    "#### r: sim"
   ]
  },
  {
   "cell_type": "code",
   "execution_count": null,
   "id": "bb949cd8",
   "metadata": {},
   "outputs": [],
   "source": []
  }
 ],
 "metadata": {
  "kernelspec": {
   "display_name": "Python 3 (ipykernel)",
   "language": "python",
   "name": "python3"
  },
  "language_info": {
   "codemirror_mode": {
    "name": "ipython",
    "version": 3
   },
   "file_extension": ".py",
   "mimetype": "text/x-python",
   "name": "python",
   "nbconvert_exporter": "python",
   "pygments_lexer": "ipython3",
   "version": "3.10.2"
  }
 },
 "nbformat": 4,
 "nbformat_minor": 5
}
