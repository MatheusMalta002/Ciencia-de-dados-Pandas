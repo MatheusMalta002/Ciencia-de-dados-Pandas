{
 "cells": [
  {
   "cell_type": "code",
   "execution_count": 1,
   "id": "dcce367d",
   "metadata": {},
   "outputs": [],
   "source": [
    "# import\n",
    "import pandas as pd\n",
    "import math"
   ]
  },
  {
   "cell_type": "markdown",
   "id": "8dffee2c",
   "metadata": {},
   "source": [
    "* The Birthday problem asks the question of \"What's the probability of 2 people sharing a birthday, in a room with N people?\" The birthday paradox refers to the counterintuitive fact that only 23 people are needed for that probability to exceed 50%.\n",
    "\n",
    "\n",
    "* In this project, I'll be using Pandas to answer the question: How many players in each team in the Premier League share a birthday?\n",
    "\n",
    "\n",
    "***The first step will be to calculate the probability of two people sharing a birthday, in a group of n people. We can use the following approximation formula:***"
   ]
  },
  {
   "cell_type": "markdown",
   "id": "073e2452",
   "metadata": {},
   "source": [
    "<img src='birthday-probability-formula.png' width='300px' height='300px' align='left' />\n",
    "<img src='n-choose-k-formula.png'  width='280px' height='280px' align='rigth'/>"
   ]
  },
  {
   "cell_type": "markdown",
   "id": "2ca6254c",
   "metadata": {},
   "source": [
    "### 1. What's the probability when n = 10?"
   ]
  },
  {
   "cell_type": "code",
   "execution_count": 2,
   "id": "9d4412c5",
   "metadata": {},
   "outputs": [
    {
     "data": {
      "text/plain": [
       "0.11614023654879224"
      ]
     },
     "execution_count": 2,
     "metadata": {},
     "output_type": "execute_result"
    }
   ],
   "source": [
    "def nCr(n, k):\n",
    "    f = math.factorial\n",
    "    return f(n) / (f(k) * f(n - k))\n",
    "\n",
    "1 - ((364 / 365) ** nCr(10, 2)) "
   ]
  },
  {
   "cell_type": "markdown",
   "id": "d6307ca1",
   "metadata": {},
   "source": [
    "### 2. What's the probability when n is 15?"
   ]
  },
  {
   "cell_type": "code",
   "execution_count": 3,
   "id": "00ac86a4",
   "metadata": {},
   "outputs": [
    {
     "data": {
      "text/plain": [
       "0.25028790861398265"
      ]
     },
     "execution_count": 3,
     "metadata": {},
     "output_type": "execute_result"
    }
   ],
   "source": [
    "1 - ((364 / 365) ** nCr(15, 2))"
   ]
  },
  {
   "cell_type": "markdown",
   "id": "c5a0493d",
   "metadata": {},
   "source": [
    "### 3. Implement the birthday_probability function"
   ]
  },
  {
   "cell_type": "code",
   "execution_count": 4,
   "id": "06a3f183",
   "metadata": {},
   "outputs": [
    {
     "data": {
      "text/plain": [
       "(0.11614023654879224, 0.25028790861398265)"
      ]
     },
     "execution_count": 4,
     "metadata": {},
     "output_type": "execute_result"
    }
   ],
   "source": [
    "def birthday_probability(number_of_people):\n",
    "    return 1 - ((364 / 365) ** nCr(number_of_people, 2))\n",
    "\n",
    "(birthday_probability(10), birthday_probability(15))"
   ]
  },
  {
   "cell_type": "markdown",
   "id": "99749292",
   "metadata": {},
   "source": [
    "### Premier League Birthday Paradox Analysis"
   ]
  },
  {
   "cell_type": "code",
   "execution_count": 5,
   "id": "196f024d",
   "metadata": {},
   "outputs": [],
   "source": [
    "# load csv\n",
    "df = pd.read_csv('Premier_League_2022-2023.csv')"
   ]
  },
  {
   "cell_type": "code",
   "execution_count": 6,
   "id": "93c56f73",
   "metadata": {},
   "outputs": [
    {
     "data": {
      "text/html": [
       "<div>\n",
       "<style scoped>\n",
       "    .dataframe tbody tr th:only-of-type {\n",
       "        vertical-align: middle;\n",
       "    }\n",
       "\n",
       "    .dataframe tbody tr th {\n",
       "        vertical-align: top;\n",
       "    }\n",
       "\n",
       "    .dataframe thead th {\n",
       "        text-align: right;\n",
       "    }\n",
       "</style>\n",
       "<table border=\"1\" class=\"dataframe\">\n",
       "  <thead>\n",
       "    <tr style=\"text-align: right;\">\n",
       "      <th></th>\n",
       "      <th>Unnamed: 0</th>\n",
       "      <th>player_name</th>\n",
       "      <th>team</th>\n",
       "      <th>birthday</th>\n",
       "      <th>position</th>\n",
       "    </tr>\n",
       "  </thead>\n",
       "  <tbody>\n",
       "    <tr>\n",
       "      <th>0</th>\n",
       "      <td>0</td>\n",
       "      <td>Daniel Adu-Adjei</td>\n",
       "      <td>AFC Bournemouth</td>\n",
       "      <td>21/06/2005</td>\n",
       "      <td>FW</td>\n",
       "    </tr>\n",
       "    <tr>\n",
       "      <th>1</th>\n",
       "      <td>1</td>\n",
       "      <td>Jaidon Anthony</td>\n",
       "      <td>AFC Bournemouth</td>\n",
       "      <td>01/12/1999</td>\n",
       "      <td>FW</td>\n",
       "    </tr>\n",
       "    <tr>\n",
       "      <th>2</th>\n",
       "      <td>2</td>\n",
       "      <td>Philip Billing</td>\n",
       "      <td>AFC Bournemouth</td>\n",
       "      <td>11/06/1996</td>\n",
       "      <td>MF</td>\n",
       "    </tr>\n",
       "    <tr>\n",
       "      <th>3</th>\n",
       "      <td>3</td>\n",
       "      <td>David Brooks</td>\n",
       "      <td>AFC Bournemouth</td>\n",
       "      <td>08/07/1997</td>\n",
       "      <td>FW</td>\n",
       "    </tr>\n",
       "    <tr>\n",
       "      <th>4</th>\n",
       "      <td>4</td>\n",
       "      <td>Ryan Christie</td>\n",
       "      <td>AFC Bournemouth</td>\n",
       "      <td>22/02/1995</td>\n",
       "      <td>MF</td>\n",
       "    </tr>\n",
       "  </tbody>\n",
       "</table>\n",
       "</div>"
      ],
      "text/plain": [
       "   Unnamed: 0       player_name             team    birthday position\n",
       "0           0  Daniel Adu-Adjei  AFC Bournemouth  21/06/2005       FW\n",
       "1           1    Jaidon Anthony  AFC Bournemouth  01/12/1999       FW\n",
       "2           2    Philip Billing  AFC Bournemouth  11/06/1996       MF\n",
       "3           3      David Brooks  AFC Bournemouth  08/07/1997       FW\n",
       "4           4     Ryan Christie  AFC Bournemouth  22/02/1995       MF"
      ]
     },
     "execution_count": 6,
     "metadata": {},
     "output_type": "execute_result"
    }
   ],
   "source": [
    "df.head()"
   ]
  },
  {
   "cell_type": "code",
   "execution_count": 7,
   "id": "0bd3e01c",
   "metadata": {},
   "outputs": [
    {
     "data": {
      "text/plain": [
       "team\n",
       "Nottingham Forest          39\n",
       "West Ham United            38\n",
       "Liverpool FC               37\n",
       "Leeds United               37\n",
       "Manchester United          36\n",
       "AFC Bournemouth            34\n",
       "Brighton & Hove Albion     34\n",
       "Fulham FC                  34\n",
       "Crystal Palace             33\n",
       "Everton FC                 33\n",
       "Arsenal FC                 33\n",
       "Wolverhampton Wanderers    32\n",
       "Newcastle United           31\n",
       "Brentford FC               31\n",
       "Southampton FC             31\n",
       "Leicester City             31\n",
       "Chelsea FC                 30\n",
       "Aston Villa                30\n",
       "Manchester City            27\n",
       "Tottenham Hotspur          27\n",
       "Name: count, dtype: int64"
      ]
     },
     "execution_count": 7,
     "metadata": {},
     "output_type": "execute_result"
    }
   ],
   "source": [
    "df['team'].value_counts()"
   ]
  },
  {
   "cell_type": "code",
   "execution_count": 8,
   "id": "8ca59aba",
   "metadata": {},
   "outputs": [
    {
     "name": "stdout",
     "output_type": "stream",
     "text": [
      "<class 'pandas.core.frame.DataFrame'>\n",
      "RangeIndex: 658 entries, 0 to 657\n",
      "Data columns (total 5 columns):\n",
      " #   Column       Non-Null Count  Dtype \n",
      "---  ------       --------------  ----- \n",
      " 0   Unnamed: 0   658 non-null    int64 \n",
      " 1   player_name  658 non-null    object\n",
      " 2   team         658 non-null    object\n",
      " 3   birthday     658 non-null    object\n",
      " 4   position     658 non-null    object\n",
      "dtypes: int64(1), object(4)\n",
      "memory usage: 25.8+ KB\n"
     ]
    }
   ],
   "source": [
    "df.info()"
   ]
  },
  {
   "cell_type": "markdown",
   "id": "2807d35a",
   "metadata": {},
   "source": [
    "### 4. Create the Birth Date column"
   ]
  },
  {
   "cell_type": "code",
   "execution_count": 9,
   "id": "a3055886",
   "metadata": {},
   "outputs": [],
   "source": [
    "df['birthday'] = pd.to_datetime(df['birthday'], format='%d/%m/%Y')"
   ]
  },
  {
   "cell_type": "code",
   "execution_count": 10,
   "id": "fa7d3f47",
   "metadata": {},
   "outputs": [],
   "source": [
    "df['Birth Date'] = df['birthday'].dt.strftime(\"%m-%d\")"
   ]
  },
  {
   "cell_type": "code",
   "execution_count": 11,
   "id": "692b4c2e",
   "metadata": {},
   "outputs": [
    {
     "data": {
      "text/html": [
       "<div>\n",
       "<style scoped>\n",
       "    .dataframe tbody tr th:only-of-type {\n",
       "        vertical-align: middle;\n",
       "    }\n",
       "\n",
       "    .dataframe tbody tr th {\n",
       "        vertical-align: top;\n",
       "    }\n",
       "\n",
       "    .dataframe thead th {\n",
       "        text-align: right;\n",
       "    }\n",
       "</style>\n",
       "<table border=\"1\" class=\"dataframe\">\n",
       "  <thead>\n",
       "    <tr style=\"text-align: right;\">\n",
       "      <th></th>\n",
       "      <th>Unnamed: 0</th>\n",
       "      <th>player_name</th>\n",
       "      <th>team</th>\n",
       "      <th>birthday</th>\n",
       "      <th>position</th>\n",
       "      <th>Birth Date</th>\n",
       "    </tr>\n",
       "  </thead>\n",
       "  <tbody>\n",
       "    <tr>\n",
       "      <th>0</th>\n",
       "      <td>0</td>\n",
       "      <td>Daniel Adu-Adjei</td>\n",
       "      <td>AFC Bournemouth</td>\n",
       "      <td>2005-06-21</td>\n",
       "      <td>FW</td>\n",
       "      <td>06-21</td>\n",
       "    </tr>\n",
       "    <tr>\n",
       "      <th>1</th>\n",
       "      <td>1</td>\n",
       "      <td>Jaidon Anthony</td>\n",
       "      <td>AFC Bournemouth</td>\n",
       "      <td>1999-12-01</td>\n",
       "      <td>FW</td>\n",
       "      <td>12-01</td>\n",
       "    </tr>\n",
       "    <tr>\n",
       "      <th>2</th>\n",
       "      <td>2</td>\n",
       "      <td>Philip Billing</td>\n",
       "      <td>AFC Bournemouth</td>\n",
       "      <td>1996-06-11</td>\n",
       "      <td>MF</td>\n",
       "      <td>06-11</td>\n",
       "    </tr>\n",
       "    <tr>\n",
       "      <th>3</th>\n",
       "      <td>3</td>\n",
       "      <td>David Brooks</td>\n",
       "      <td>AFC Bournemouth</td>\n",
       "      <td>1997-07-08</td>\n",
       "      <td>FW</td>\n",
       "      <td>07-08</td>\n",
       "    </tr>\n",
       "    <tr>\n",
       "      <th>4</th>\n",
       "      <td>4</td>\n",
       "      <td>Ryan Christie</td>\n",
       "      <td>AFC Bournemouth</td>\n",
       "      <td>1995-02-22</td>\n",
       "      <td>MF</td>\n",
       "      <td>02-22</td>\n",
       "    </tr>\n",
       "  </tbody>\n",
       "</table>\n",
       "</div>"
      ],
      "text/plain": [
       "   Unnamed: 0       player_name             team   birthday position  \\\n",
       "0           0  Daniel Adu-Adjei  AFC Bournemouth 2005-06-21       FW   \n",
       "1           1    Jaidon Anthony  AFC Bournemouth 1999-12-01       FW   \n",
       "2           2    Philip Billing  AFC Bournemouth 1996-06-11       MF   \n",
       "3           3      David Brooks  AFC Bournemouth 1997-07-08       FW   \n",
       "4           4     Ryan Christie  AFC Bournemouth 1995-02-22       MF   \n",
       "\n",
       "  Birth Date  \n",
       "0      06-21  \n",
       "1      12-01  \n",
       "2      06-11  \n",
       "3      07-08  \n",
       "4      02-22  "
      ]
     },
     "execution_count": 11,
     "metadata": {},
     "output_type": "execute_result"
    }
   ],
   "source": [
    "df.head()"
   ]
  },
  {
   "cell_type": "markdown",
   "id": "d9b2073a",
   "metadata": {},
   "source": [
    "Using combinations, I can take all the samples in paris (`r=2`) to compare them:\n",
    "\n",
    "| Name | Birthday  |\n",
    "|------|-----------|\n",
    "| John | March 5th |\n",
    "| Mary | Sept 20th |\n",
    "| Rob  | March 5th |\n",
    "\n",
    "\n",
    "| Person 1 | Person 2  |\n",
    "|------|-----------|\n",
    "| John | Mary |\n",
    "| John | Rob |\n",
    "| Mary  | Rob |\n",
    "\n",
    "Using Python:"
   ]
  },
  {
   "cell_type": "code",
   "execution_count": 12,
   "id": "1333c6f0",
   "metadata": {},
   "outputs": [],
   "source": [
    "from itertools import combinations"
   ]
  },
  {
   "cell_type": "code",
   "execution_count": 13,
   "id": "f289c0f1",
   "metadata": {},
   "outputs": [],
   "source": [
    "# Example\n",
    "names = [\"Rodrigo Bahia\", \"Lucas Fields\", \"Arthur comegundi\", \"Ian Alcatra\"]"
   ]
  },
  {
   "cell_type": "code",
   "execution_count": 14,
   "id": "4afa5bea",
   "metadata": {},
   "outputs": [
    {
     "data": {
      "text/plain": [
       "[('Rodrigo Bahia', 'Lucas Fields'),\n",
       " ('Rodrigo Bahia', 'Arthur comegundi'),\n",
       " ('Rodrigo Bahia', 'Ian Alcatra'),\n",
       " ('Lucas Fields', 'Arthur comegundi'),\n",
       " ('Lucas Fields', 'Ian Alcatra'),\n",
       " ('Arthur comegundi', 'Ian Alcatra')]"
      ]
     },
     "execution_count": 14,
     "metadata": {},
     "output_type": "execute_result"
    }
   ],
   "source": [
    "list(combinations(names, 2))"
   ]
  },
  {
   "cell_type": "code",
   "execution_count": 15,
   "id": "0ee911c9",
   "metadata": {},
   "outputs": [],
   "source": [
    "# Same for birthdays\n",
    "birthdays = [\"sep 20th\", \"mar 5th\", \"sep 20th\", \"jan 15th\"]"
   ]
  },
  {
   "cell_type": "code",
   "execution_count": 16,
   "id": "2dc57203",
   "metadata": {},
   "outputs": [
    {
     "data": {
      "text/plain": [
       "[('sep 20th', 'mar 5th'),\n",
       " ('sep 20th', 'sep 20th'),\n",
       " ('sep 20th', 'jan 15th'),\n",
       " ('mar 5th', 'sep 20th'),\n",
       " ('mar 5th', 'jan 15th'),\n",
       " ('sep 20th', 'jan 15th')]"
      ]
     },
     "execution_count": 16,
     "metadata": {},
     "output_type": "execute_result"
    }
   ],
   "source": [
    "list(combinations(birthdays, 2))"
   ]
  },
  {
   "cell_type": "code",
   "execution_count": 17,
   "id": "be42a89f",
   "metadata": {},
   "outputs": [
    {
     "data": {
      "text/html": [
       "<div>\n",
       "<style scoped>\n",
       "    .dataframe tbody tr th:only-of-type {\n",
       "        vertical-align: middle;\n",
       "    }\n",
       "\n",
       "    .dataframe tbody tr th {\n",
       "        vertical-align: top;\n",
       "    }\n",
       "\n",
       "    .dataframe thead th {\n",
       "        text-align: right;\n",
       "    }\n",
       "</style>\n",
       "<table border=\"1\" class=\"dataframe\">\n",
       "  <thead>\n",
       "    <tr style=\"text-align: right;\">\n",
       "      <th></th>\n",
       "      <th>Person 1</th>\n",
       "      <th>Person 2</th>\n",
       "    </tr>\n",
       "  </thead>\n",
       "  <tbody>\n",
       "    <tr>\n",
       "      <th>0</th>\n",
       "      <td>Rodrigo Bahia</td>\n",
       "      <td>Lucas Fields</td>\n",
       "    </tr>\n",
       "    <tr>\n",
       "      <th>1</th>\n",
       "      <td>Rodrigo Bahia</td>\n",
       "      <td>Arthur comegundi</td>\n",
       "    </tr>\n",
       "    <tr>\n",
       "      <th>2</th>\n",
       "      <td>Rodrigo Bahia</td>\n",
       "      <td>Ian Alcatra</td>\n",
       "    </tr>\n",
       "    <tr>\n",
       "      <th>3</th>\n",
       "      <td>Lucas Fields</td>\n",
       "      <td>Arthur comegundi</td>\n",
       "    </tr>\n",
       "    <tr>\n",
       "      <th>4</th>\n",
       "      <td>Lucas Fields</td>\n",
       "      <td>Ian Alcatra</td>\n",
       "    </tr>\n",
       "    <tr>\n",
       "      <th>5</th>\n",
       "      <td>Arthur comegundi</td>\n",
       "      <td>Ian Alcatra</td>\n",
       "    </tr>\n",
       "  </tbody>\n",
       "</table>\n",
       "</div>"
      ],
      "text/plain": [
       "           Person 1          Person 2\n",
       "0     Rodrigo Bahia      Lucas Fields\n",
       "1     Rodrigo Bahia  Arthur comegundi\n",
       "2     Rodrigo Bahia       Ian Alcatra\n",
       "3      Lucas Fields  Arthur comegundi\n",
       "4      Lucas Fields       Ian Alcatra\n",
       "5  Arthur comegundi       Ian Alcatra"
      ]
     },
     "execution_count": 17,
     "metadata": {},
     "output_type": "execute_result"
    }
   ],
   "source": [
    "names_df = pd.DataFrame(combinations(names, 2), columns=[\"Person 1\", \"Person 2\"])\n",
    "names_df"
   ]
  },
  {
   "cell_type": "code",
   "execution_count": 18,
   "id": "e0bf4e76",
   "metadata": {},
   "outputs": [
    {
     "data": {
      "text/html": [
       "<div>\n",
       "<style scoped>\n",
       "    .dataframe tbody tr th:only-of-type {\n",
       "        vertical-align: middle;\n",
       "    }\n",
       "\n",
       "    .dataframe tbody tr th {\n",
       "        vertical-align: top;\n",
       "    }\n",
       "\n",
       "    .dataframe thead th {\n",
       "        text-align: right;\n",
       "    }\n",
       "</style>\n",
       "<table border=\"1\" class=\"dataframe\">\n",
       "  <thead>\n",
       "    <tr style=\"text-align: right;\">\n",
       "      <th></th>\n",
       "      <th>Birthday 1</th>\n",
       "      <th>Birthday 2</th>\n",
       "    </tr>\n",
       "  </thead>\n",
       "  <tbody>\n",
       "    <tr>\n",
       "      <th>0</th>\n",
       "      <td>sep 20th</td>\n",
       "      <td>mar 5th</td>\n",
       "    </tr>\n",
       "    <tr>\n",
       "      <th>1</th>\n",
       "      <td>sep 20th</td>\n",
       "      <td>sep 20th</td>\n",
       "    </tr>\n",
       "    <tr>\n",
       "      <th>2</th>\n",
       "      <td>sep 20th</td>\n",
       "      <td>jan 15th</td>\n",
       "    </tr>\n",
       "    <tr>\n",
       "      <th>3</th>\n",
       "      <td>mar 5th</td>\n",
       "      <td>sep 20th</td>\n",
       "    </tr>\n",
       "    <tr>\n",
       "      <th>4</th>\n",
       "      <td>mar 5th</td>\n",
       "      <td>jan 15th</td>\n",
       "    </tr>\n",
       "    <tr>\n",
       "      <th>5</th>\n",
       "      <td>sep 20th</td>\n",
       "      <td>jan 15th</td>\n",
       "    </tr>\n",
       "  </tbody>\n",
       "</table>\n",
       "</div>"
      ],
      "text/plain": [
       "  Birthday 1 Birthday 2\n",
       "0   sep 20th    mar 5th\n",
       "1   sep 20th   sep 20th\n",
       "2   sep 20th   jan 15th\n",
       "3    mar 5th   sep 20th\n",
       "4    mar 5th   jan 15th\n",
       "5   sep 20th   jan 15th"
      ]
     },
     "execution_count": 18,
     "metadata": {},
     "output_type": "execute_result"
    }
   ],
   "source": [
    "birthdays_df = pd.DataFrame(combinations(birthdays, 2), columns=['Birthday 1', 'Birthday 2'])\n",
    "birthdays_df"
   ]
  },
  {
   "cell_type": "markdown",
   "id": "c8e612f8",
   "metadata": {},
   "source": [
    "Combining it:"
   ]
  },
  {
   "cell_type": "code",
   "execution_count": 19,
   "id": "ce129d44",
   "metadata": {},
   "outputs": [
    {
     "data": {
      "text/html": [
       "<div>\n",
       "<style scoped>\n",
       "    .dataframe tbody tr th:only-of-type {\n",
       "        vertical-align: middle;\n",
       "    }\n",
       "\n",
       "    .dataframe tbody tr th {\n",
       "        vertical-align: top;\n",
       "    }\n",
       "\n",
       "    .dataframe thead th {\n",
       "        text-align: right;\n",
       "    }\n",
       "</style>\n",
       "<table border=\"1\" class=\"dataframe\">\n",
       "  <thead>\n",
       "    <tr style=\"text-align: right;\">\n",
       "      <th></th>\n",
       "      <th>Person 1</th>\n",
       "      <th>Person 2</th>\n",
       "      <th>Birthday 1</th>\n",
       "      <th>Birthday 2</th>\n",
       "    </tr>\n",
       "  </thead>\n",
       "  <tbody>\n",
       "    <tr>\n",
       "      <th>0</th>\n",
       "      <td>Rodrigo Bahia</td>\n",
       "      <td>Lucas Fields</td>\n",
       "      <td>sep 20th</td>\n",
       "      <td>mar 5th</td>\n",
       "    </tr>\n",
       "    <tr>\n",
       "      <th>1</th>\n",
       "      <td>Rodrigo Bahia</td>\n",
       "      <td>Arthur comegundi</td>\n",
       "      <td>sep 20th</td>\n",
       "      <td>sep 20th</td>\n",
       "    </tr>\n",
       "    <tr>\n",
       "      <th>2</th>\n",
       "      <td>Rodrigo Bahia</td>\n",
       "      <td>Ian Alcatra</td>\n",
       "      <td>sep 20th</td>\n",
       "      <td>jan 15th</td>\n",
       "    </tr>\n",
       "    <tr>\n",
       "      <th>3</th>\n",
       "      <td>Lucas Fields</td>\n",
       "      <td>Arthur comegundi</td>\n",
       "      <td>mar 5th</td>\n",
       "      <td>sep 20th</td>\n",
       "    </tr>\n",
       "    <tr>\n",
       "      <th>4</th>\n",
       "      <td>Lucas Fields</td>\n",
       "      <td>Ian Alcatra</td>\n",
       "      <td>mar 5th</td>\n",
       "      <td>jan 15th</td>\n",
       "    </tr>\n",
       "    <tr>\n",
       "      <th>5</th>\n",
       "      <td>Arthur comegundi</td>\n",
       "      <td>Ian Alcatra</td>\n",
       "      <td>sep 20th</td>\n",
       "      <td>jan 15th</td>\n",
       "    </tr>\n",
       "  </tbody>\n",
       "</table>\n",
       "</div>"
      ],
      "text/plain": [
       "           Person 1          Person 2 Birthday 1 Birthday 2\n",
       "0     Rodrigo Bahia      Lucas Fields   sep 20th    mar 5th\n",
       "1     Rodrigo Bahia  Arthur comegundi   sep 20th   sep 20th\n",
       "2     Rodrigo Bahia       Ian Alcatra   sep 20th   jan 15th\n",
       "3      Lucas Fields  Arthur comegundi    mar 5th   sep 20th\n",
       "4      Lucas Fields       Ian Alcatra    mar 5th   jan 15th\n",
       "5  Arthur comegundi       Ian Alcatra   sep 20th   jan 15th"
      ]
     },
     "execution_count": 19,
     "metadata": {},
     "output_type": "execute_result"
    }
   ],
   "source": [
    "df_concat = pd.concat([names_df, birthdays_df], axis=1)\n",
    "df_concat"
   ]
  },
  {
   "cell_type": "code",
   "execution_count": 20,
   "id": "90ee04d0",
   "metadata": {},
   "outputs": [
    {
     "data": {
      "text/html": [
       "<div>\n",
       "<style scoped>\n",
       "    .dataframe tbody tr th:only-of-type {\n",
       "        vertical-align: middle;\n",
       "    }\n",
       "\n",
       "    .dataframe tbody tr th {\n",
       "        vertical-align: top;\n",
       "    }\n",
       "\n",
       "    .dataframe thead th {\n",
       "        text-align: right;\n",
       "    }\n",
       "</style>\n",
       "<table border=\"1\" class=\"dataframe\">\n",
       "  <thead>\n",
       "    <tr style=\"text-align: right;\">\n",
       "      <th></th>\n",
       "      <th>Person 1</th>\n",
       "      <th>Person 2</th>\n",
       "      <th>Birthday 1</th>\n",
       "      <th>Birthday 2</th>\n",
       "    </tr>\n",
       "  </thead>\n",
       "  <tbody>\n",
       "    <tr>\n",
       "      <th>1</th>\n",
       "      <td>Rodrigo Bahia</td>\n",
       "      <td>Arthur comegundi</td>\n",
       "      <td>sep 20th</td>\n",
       "      <td>sep 20th</td>\n",
       "    </tr>\n",
       "  </tbody>\n",
       "</table>\n",
       "</div>"
      ],
      "text/plain": [
       "        Person 1          Person 2 Birthday 1 Birthday 2\n",
       "1  Rodrigo Bahia  Arthur comegundi   sep 20th   sep 20th"
      ]
     },
     "execution_count": 20,
     "metadata": {},
     "output_type": "execute_result"
    }
   ],
   "source": [
    "df_concat.loc[(df_concat['Birthday 1']) == (df_concat['Birthday 2'])]"
   ]
  },
  {
   "cell_type": "markdown",
   "id": "4b5bd44f",
   "metadata": {},
   "source": [
    "### End of examples! Time to practice on the dataset."
   ]
  },
  {
   "cell_type": "markdown",
   "id": "e862daef",
   "metadata": {},
   "source": [
    "Building a function for reuse across different teams."
   ]
  },
  {
   "cell_type": "code",
   "execution_count": 21,
   "id": "e844b90b",
   "metadata": {},
   "outputs": [],
   "source": [
    "def BirthdayParadox(name_of_team):\n",
    "    #select the team\n",
    "    team_df = df.loc[df['team'] == name_of_team] \n",
    "    \n",
    "    # Combining the names\n",
    "    players_df = pd.DataFrame(combinations(team_df['player_name'], 2), columns=['player 1', 'player 2']) \n",
    "    \n",
    "    # Combinig the birthdays\n",
    "    birthday_df = pd.DataFrame(combinations(team_df['Birth Date'], 2), columns=['birthday 1', 'birthday 2'])\n",
    "    \n",
    "    # concat\n",
    "    df_concat = pd.concat([players_df, birthday_df], axis=1)\n",
    "    \n",
    "    return df_concat.loc[(df_concat['birthday 1']) == (df_concat['birthday 2'])]"
   ]
  },
  {
   "cell_type": "markdown",
   "id": "cc876cad",
   "metadata": {},
   "source": [
    "#### Activities"
   ]
  },
  {
   "cell_type": "markdown",
   "id": "ade99d72",
   "metadata": {},
   "source": [
    "### 5. How many pairs of players share a birthday for the Liverpool FC?"
   ]
  },
  {
   "cell_type": "code",
   "execution_count": 22,
   "id": "d642b32d",
   "metadata": {},
   "outputs": [
    {
     "data": {
      "text/html": [
       "<div>\n",
       "<style scoped>\n",
       "    .dataframe tbody tr th:only-of-type {\n",
       "        vertical-align: middle;\n",
       "    }\n",
       "\n",
       "    .dataframe tbody tr th {\n",
       "        vertical-align: top;\n",
       "    }\n",
       "\n",
       "    .dataframe thead th {\n",
       "        text-align: right;\n",
       "    }\n",
       "</style>\n",
       "<table border=\"1\" class=\"dataframe\">\n",
       "  <thead>\n",
       "    <tr style=\"text-align: right;\">\n",
       "      <th></th>\n",
       "      <th>player 1</th>\n",
       "      <th>player 2</th>\n",
       "      <th>birthday 1</th>\n",
       "      <th>birthday 2</th>\n",
       "    </tr>\n",
       "  </thead>\n",
       "  <tbody>\n",
       "    <tr>\n",
       "      <th>97</th>\n",
       "      <td>Alisson</td>\n",
       "      <td>Roberto Firmino</td>\n",
       "      <td>10-02</td>\n",
       "      <td>10-02</td>\n",
       "    </tr>\n",
       "    <tr>\n",
       "      <th>188</th>\n",
       "      <td>Luke Chambers</td>\n",
       "      <td>Darwin Núñez</td>\n",
       "      <td>06-24</td>\n",
       "      <td>06-24</td>\n",
       "    </tr>\n",
       "    <tr>\n",
       "      <th>256</th>\n",
       "      <td>Harvey Davies</td>\n",
       "      <td>Layton Stewart</td>\n",
       "      <td>09-03</td>\n",
       "      <td>09-03</td>\n",
       "    </tr>\n",
       "  </tbody>\n",
       "</table>\n",
       "</div>"
      ],
      "text/plain": [
       "          player 1         player 2 birthday 1 birthday 2\n",
       "97         Alisson  Roberto Firmino      10-02      10-02\n",
       "188  Luke Chambers     Darwin Núñez      06-24      06-24\n",
       "256  Harvey Davies   Layton Stewart      09-03      09-03"
      ]
     },
     "execution_count": 22,
     "metadata": {},
     "output_type": "execute_result"
    }
   ],
   "source": [
    "BirthdayParadox('Liverpool FC') "
   ]
  },
  {
   "cell_type": "markdown",
   "id": "fda6e417",
   "metadata": {},
   "source": [
    "#### R: 3"
   ]
  },
  {
   "cell_type": "markdown",
   "id": "e3dcda63",
   "metadata": {},
   "source": [
    "### 6. What is the probability of the Liverpool FC team?"
   ]
  },
  {
   "cell_type": "code",
   "execution_count": 23,
   "id": "3d85e7a5",
   "metadata": {},
   "outputs": [
    {
     "data": {
      "text/plain": [
       "0.8391304739689956"
      ]
     },
     "execution_count": 23,
     "metadata": {},
     "output_type": "execute_result"
    }
   ],
   "source": [
    "birthday_probability((df['team'] == 'Liverpool FC').sum())"
   ]
  },
  {
   "cell_type": "code",
   "execution_count": 24,
   "id": "20fe8178",
   "metadata": {},
   "outputs": [
    {
     "data": {
      "text/plain": [
       "37"
      ]
     },
     "execution_count": 24,
     "metadata": {},
     "output_type": "execute_result"
    }
   ],
   "source": [
    "(df['team'] == 'Liverpool FC').sum()"
   ]
  },
  {
   "cell_type": "markdown",
   "id": "7237e3d2",
   "metadata": {},
   "source": [
    "#### R: 0.83"
   ]
  },
  {
   "cell_type": "markdown",
   "id": "0964459a",
   "metadata": {},
   "source": [
    "### 7. How many pairs of players share a birthday for the Manchester City?"
   ]
  },
  {
   "cell_type": "code",
   "execution_count": 25,
   "id": "c542c0f1",
   "metadata": {},
   "outputs": [
    {
     "data": {
      "text/html": [
       "<div>\n",
       "<style scoped>\n",
       "    .dataframe tbody tr th:only-of-type {\n",
       "        vertical-align: middle;\n",
       "    }\n",
       "\n",
       "    .dataframe tbody tr th {\n",
       "        vertical-align: top;\n",
       "    }\n",
       "\n",
       "    .dataframe thead th {\n",
       "        text-align: right;\n",
       "    }\n",
       "</style>\n",
       "<table border=\"1\" class=\"dataframe\">\n",
       "  <thead>\n",
       "    <tr style=\"text-align: right;\">\n",
       "      <th></th>\n",
       "      <th>player 1</th>\n",
       "      <th>player 2</th>\n",
       "      <th>birthday 1</th>\n",
       "      <th>birthday 2</th>\n",
       "    </tr>\n",
       "  </thead>\n",
       "  <tbody>\n",
       "    <tr>\n",
       "      <th>177</th>\n",
       "      <td>Phil Foden</td>\n",
       "      <td>John Stones</td>\n",
       "      <td>05-28</td>\n",
       "      <td>05-28</td>\n",
       "    </tr>\n",
       "    <tr>\n",
       "      <th>178</th>\n",
       "      <td>Phil Foden</td>\n",
       "      <td>Kyle Walker</td>\n",
       "      <td>05-28</td>\n",
       "      <td>05-28</td>\n",
       "    </tr>\n",
       "    <tr>\n",
       "      <th>232</th>\n",
       "      <td>João Cancelo</td>\n",
       "      <td>Aymeric Laporte</td>\n",
       "      <td>05-27</td>\n",
       "      <td>05-27</td>\n",
       "    </tr>\n",
       "    <tr>\n",
       "      <th>348</th>\n",
       "      <td>John Stones</td>\n",
       "      <td>Kyle Walker</td>\n",
       "      <td>05-28</td>\n",
       "      <td>05-28</td>\n",
       "    </tr>\n",
       "  </tbody>\n",
       "</table>\n",
       "</div>"
      ],
      "text/plain": [
       "         player 1         player 2 birthday 1 birthday 2\n",
       "177    Phil Foden      John Stones      05-28      05-28\n",
       "178    Phil Foden      Kyle Walker      05-28      05-28\n",
       "232  João Cancelo  Aymeric Laporte      05-27      05-27\n",
       "348   John Stones      Kyle Walker      05-28      05-28"
      ]
     },
     "execution_count": 25,
     "metadata": {},
     "output_type": "execute_result"
    }
   ],
   "source": [
    "BirthdayParadox('Manchester City') "
   ]
  },
  {
   "cell_type": "markdown",
   "id": "bd069265",
   "metadata": {},
   "source": [
    "#### R: 4"
   ]
  },
  {
   "cell_type": "markdown",
   "id": "73f38bb4",
   "metadata": {},
   "source": [
    "### 8. What is the probability of the Manchester City team?"
   ]
  },
  {
   "cell_type": "code",
   "execution_count": 26,
   "id": "13b622fa",
   "metadata": {},
   "outputs": [
    {
     "data": {
      "text/plain": [
       "0.6182401629679479"
      ]
     },
     "execution_count": 26,
     "metadata": {},
     "output_type": "execute_result"
    }
   ],
   "source": [
    "birthday_probability((df['team'] == 'Manchester City').sum())"
   ]
  },
  {
   "cell_type": "code",
   "execution_count": 27,
   "id": "df52d700",
   "metadata": {},
   "outputs": [
    {
     "data": {
      "text/plain": [
       "27"
      ]
     },
     "execution_count": 27,
     "metadata": {},
     "output_type": "execute_result"
    }
   ],
   "source": [
    "(df['team'] == 'Manchester City').sum()"
   ]
  },
  {
   "cell_type": "markdown",
   "id": "dfa48f9b",
   "metadata": {},
   "source": [
    "### 9. In the Arsenal FC, who shares a birthday with Fábio Vieira?\n"
   ]
  },
  {
   "cell_type": "code",
   "execution_count": 28,
   "id": "8c166b7d",
   "metadata": {},
   "outputs": [
    {
     "data": {
      "text/html": [
       "<div>\n",
       "<style scoped>\n",
       "    .dataframe tbody tr th:only-of-type {\n",
       "        vertical-align: middle;\n",
       "    }\n",
       "\n",
       "    .dataframe tbody tr th {\n",
       "        vertical-align: top;\n",
       "    }\n",
       "\n",
       "    .dataframe thead th {\n",
       "        text-align: right;\n",
       "    }\n",
       "</style>\n",
       "<table border=\"1\" class=\"dataframe\">\n",
       "  <thead>\n",
       "    <tr style=\"text-align: right;\">\n",
       "      <th></th>\n",
       "      <th>player 1</th>\n",
       "      <th>player 2</th>\n",
       "      <th>birthday 1</th>\n",
       "      <th>birthday 2</th>\n",
       "    </tr>\n",
       "  </thead>\n",
       "  <tbody>\n",
       "    <tr>\n",
       "      <th>187</th>\n",
       "      <td>Fábio Vieira</td>\n",
       "      <td>Eddie Nketiah</td>\n",
       "      <td>05-30</td>\n",
       "      <td>05-30</td>\n",
       "    </tr>\n",
       "  </tbody>\n",
       "</table>\n",
       "</div>"
      ],
      "text/plain": [
       "         player 1       player 2 birthday 1 birthday 2\n",
       "187  Fábio Vieira  Eddie Nketiah      05-30      05-30"
      ]
     },
     "execution_count": 28,
     "metadata": {},
     "output_type": "execute_result"
    }
   ],
   "source": [
    "BirthdayParadox('Arsenal FC')"
   ]
  },
  {
   "cell_type": "markdown",
   "id": "0822c833",
   "metadata": {},
   "source": [
    "#### R: Eddie Nketiah"
   ]
  },
  {
   "cell_type": "markdown",
   "id": "1e6176a9",
   "metadata": {},
   "source": [
    "### 10. Which team has the most shared birthdays?"
   ]
  },
  {
   "cell_type": "code",
   "execution_count": 29,
   "id": "dbfa2309",
   "metadata": {},
   "outputs": [
    {
     "name": "stdout",
     "output_type": "stream",
     "text": [
      "AFC Bournemouth: 0\n",
      "Arsenal FC: 1\n",
      "Aston Villa: 1\n",
      "Brentford FC: 1\n",
      "Brighton & Hove Albion: 0\n",
      "Chelsea FC: 1\n",
      "Crystal Palace: 1\n",
      "Everton FC: 1\n",
      "Fulham FC: 1\n",
      "Leeds United: 3\n",
      "Leicester City: 0\n",
      "Liverpool FC: 3\n",
      "Manchester City: 4\n",
      "Manchester United: 3\n",
      "Newcastle United: 2\n",
      "Nottingham Forest: 0\n",
      "Southampton FC: 0\n",
      "Tottenham Hotspur: 0\n",
      "West Ham United: 2\n",
      "Wolverhampton Wanderers: 0\n"
     ]
    }
   ],
   "source": [
    "array = []\n",
    "\n",
    "for i in df['team']:\n",
    "    if(i in array):\n",
    "        pass\n",
    "    else:\n",
    "        array.append(i)\n",
    "        \n",
    "for j in array:\n",
    "    print(f\"{j}: {BirthdayParadox(j).shape[0]}\")"
   ]
  },
  {
   "cell_type": "markdown",
   "id": "6b97b39a",
   "metadata": {},
   "source": [
    "#### R: Manchester City"
   ]
  },
  {
   "cell_type": "code",
   "execution_count": null,
   "id": "af7a9c19",
   "metadata": {},
   "outputs": [],
   "source": []
  }
 ],
 "metadata": {
  "kernelspec": {
   "display_name": "Python 3 (ipykernel)",
   "language": "python",
   "name": "python3"
  },
  "language_info": {
   "codemirror_mode": {
    "name": "ipython",
    "version": 3
   },
   "file_extension": ".py",
   "mimetype": "text/x-python",
   "name": "python",
   "nbconvert_exporter": "python",
   "pygments_lexer": "ipython3",
   "version": "3.10.2"
  }
 },
 "nbformat": 4,
 "nbformat_minor": 5
}
